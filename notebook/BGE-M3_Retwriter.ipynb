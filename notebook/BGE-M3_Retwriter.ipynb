{
 "cells": [
  {
   "cell_type": "markdown",
   "metadata": {},
   "source": [
    "# Query Decomposition"
   ]
  },
  {
   "cell_type": "code",
   "execution_count": null,
   "metadata": {},
   "outputs": [
    {
     "name": "stdout",
     "output_type": "stream",
     "text": [
      "Columns in the file: Index(['Competency Question', 'Ground Truth'], dtype='object')\n",
      "Processing questions... This may take some time.\n",
      "\n",
      "Processing Question 1: Who is working in the Computational Materials Science field?\n",
      "Generated Queries:\n",
      "Who are the leading researchers in Computational Materials Science?  \n",
      "What are the key institutions or universities known for Computational Materials Science research?  \n",
      "Which industries employ professionals in Computational Materials Science?  \n",
      "What are the common job titles or roles for professionals in Computational Materials Science?  \n",
      "What recent breakthroughs or publications highlight prominent figures in Computational Materials Science?\n",
      "\n",
      "Processing Question 2: What are the research projects associated to EMMO?\n",
      "Generated Queries:\n",
      "What is EMMO and its primary research focus?  \n",
      "List current research projects under the EMMO framework.  \n",
      "Which institutions or organizations are involved in EMMO-related research?  \n",
      "What are the key publications or papers associated with EMMO research projects?  \n",
      "How does EMMO collaborate with industry or other research initiatives?\n",
      "\n",
      "Processing Question 3: Who are the contributors of the data \"datasets\"?\n",
      "Generated Queries:\n",
      "Who are the contributors to the dataset \"datasets\"?  \n",
      "What organizations or individuals provide data for \"datasets\"?  \n",
      "How is the dataset \"datasets\" sourced and maintained?  \n",
      "What is the role of contributors in the creation of \"datasets\"?  \n",
      "Are there any notable authors or institutions associated with \"datasets\"?\n",
      "\n",
      "Processing Question 4: Who is working with Researcher \"Ebrahim Norouzi\" in the same group?\n",
      "Generated Queries:\n",
      "Who is Ebrahim Norouzi and what is his research group?  \n",
      "List of current members in Ebrahim Norouzi's research group  \n",
      "Collaborators or co-authors of Ebrahim Norouzi in recent publications  \n",
      "Academic or professional affiliations of Ebrahim Norouzi  \n",
      "Research group or lab website associated with Ebrahim Norouzi\n",
      "\n",
      "Processing Question 5: who is the email address of \"ParaView\"?\n",
      "Generated Queries:\n",
      "What is ParaView and what is its official website?  \n",
      "How to contact ParaView support or find their email address?  \n",
      "Who develops ParaView and how can they be reached?  \n",
      "Is there a public contact email for ParaView listed in their documentation?  \n",
      "Where can I find the official ParaView community or support forums for contact details?\n",
      "\n",
      "Processing Question 6: What are the affilliations of Volker Hofmann?\n",
      "Generated Queries:\n",
      "Who is Volker Hofmann in his professional capacity?  \n",
      "What organizations or institutions has Volker Hofmann been associated with?  \n",
      "List of professional affiliations for Volker Hofmann.  \n",
      "Volker Hofmann's current and past roles in companies or academia.  \n",
      "Publications or profiles mentioning Volker Hofmann's affiliations.\n",
      "\n",
      "Processing Question 7: What is \"Molecular Dynamics\" Software? List the programming language, documentation page, repository, and license information.\n",
      "Generated Queries:\n",
      "What is Molecular Dynamics software and its primary uses?  \n",
      "Which programming languages are commonly used in Molecular Dynamics software development?  \n",
      "Where can I find the official documentation for popular Molecular Dynamics software?  \n",
      "What are the repository links for open-source Molecular Dynamics software projects?  \n",
      "What are the licensing terms for widely used Molecular Dynamics software?\n",
      "\n",
      "Processing Question 8: What are pre- and post-processing tools for MD simulations?\n",
      "Generated Queries:\n",
      "What are common pre-processing tools for molecular dynamics simulations?  \n",
      "What are popular post-processing tools for analyzing MD simulation results?  \n",
      "How do pre-processing tools prepare systems for MD simulations?  \n",
      "What features should I look for in post-processing tools for MD data?  \n",
      "Are there integrated platforms that combine pre- and post-processing for MD simulations?\n",
      "\n",
      "Processing Question 9: What are some workflow environments for computational materials science?\n",
      "Generated Queries:\n",
      "What are the commonly used software tools in computational materials science?  \n",
      "What are the key features of workflow management systems for materials science simulations?  \n",
      "How do high-performance computing environments support computational materials science workflows?  \n",
      "What are some examples of integrated platforms for materials modeling and data analysis?  \n",
      "What role do cloud-based solutions play in computational materials science workflows?\n",
      "\n",
      "Processing Question 10: How should I cite pyiron?\n",
      "Generated Queries:\n",
      "What is pyiron and why is it used in research?  \n",
      "How to find citation guidelines for pyiron?  \n",
      "Where can I find the official pyiron documentation for referencing?  \n",
      "What citation format does pyiron recommend (e.g., APA, MLA, BibTeX)?  \n",
      "Are there specific papers or publications that should be cited when using pyiron?\n",
      "\n",
      "Processing Question 11: Where can I find a list of interatomic potentials?\n",
      "Generated Queries:\n",
      "What are interatomic potentials and their common types?  \n",
      "Where can I download interatomic potential files for molecular dynamics simulations?  \n",
      "Which databases or repositories host interatomic potentials for materials science?  \n",
      "How do I choose the right interatomic potential for a specific material or system?  \n",
      "Are there open-source software tools that include built-in interatomic potential libraries?\n",
      "\n",
      "Processing Question 12: What are python libraries used for calculating local atomic structural environment?\n",
      "Generated Queries:\n",
      "What Python libraries are available for analyzing atomic structures in materials science?  \n",
      "How to calculate radial distribution functions in Python for atomic environments?  \n",
      "What are the best Python libraries for neighbor analysis in molecular dynamics simulations?  \n",
      "How to use Python for Voronoi tessellation in atomic structure analysis?  \n",
      "What tools in Python can compute bond angles and distances in crystal structures?\n",
      "\n",
      "Processing Question 13: What are the electronic lab notebooks available?\n",
      "Generated Queries:\n",
      "What are the features of electronic lab notebooks?  \n",
      "How do electronic lab notebooks compare to traditional paper notebooks?  \n",
      "What are the top-rated electronic lab notebook software options?  \n",
      "Are there any free or open-source electronic lab notebooks available?  \n",
      "What are the security and compliance considerations for electronic lab notebooks?\n",
      "\n",
      "Processing Question 14: What are the software for Molecular Dynamics (MD)?\n",
      "Generated Queries:\n",
      "What are the most widely used molecular dynamics simulation software packages?  \n",
      "What are the key features of GROMACS for molecular dynamics simulations?  \n",
      "How does AMBER compare to NAMD for molecular dynamics studies?  \n",
      "What open-source molecular dynamics software options are available?  \n",
      "What are the hardware requirements for running LAMMPS molecular dynamics simulations?\n",
      "\n",
      "Processing Question 15: What are the ontologies in nanomaterials domain?\n",
      "Generated Queries:\n",
      "What are the key ontologies used for classifying nanomaterials?  \n",
      "How do ontologies in the nanomaterials domain facilitate data interoperability?  \n",
      "What are the main challenges in developing ontologies for nanomaterials?  \n",
      "Which organizations or initiatives are leading the development of nanomaterials ontologies?  \n",
      "How are nanomaterials ontologies applied in research or industry settings?\n",
      "\n",
      "Processing Question 16: What is DAMASK?\n",
      "Generated Queries:\n",
      "What is DAMASK in materials science?  \n",
      "DAMASK software features and capabilities  \n",
      "How does DAMASK simulate crystal plasticity?  \n",
      "DAMASK applications in engineering and research  \n",
      "DAMASK download and installation guide\n",
      "\n",
      "Processing Question 17: What are the data portals for materials science ontologies?\n",
      "Generated Queries:\n",
      "What are the major materials science ontologies currently in use?  \n",
      "Where can I find open-access data portals for materials science research?  \n",
      "Which organizations or institutions host materials science ontology databases?  \n",
      "How do materials science ontologies integrate with data portals?  \n",
      "Are there any standardized APIs for accessing materials science ontology data?\n",
      "\n",
      "Processing Question 18: What are the instruments for APT?\n",
      "Generated Queries:\n",
      "What are the common instruments used in Advanced Persistent Threat (APT) attacks?  \n",
      "How do APT groups typically deploy their tools and techniques?  \n",
      "What are the differences between APT tools and traditional malware?  \n",
      "Can you list examples of known APT attack instruments and their functionalities?  \n",
      "How do cybersecurity professionals detect and mitigate APT-related instruments?\n",
      "\n",
      "Processing Question 19: In which institution can I find tomography equipment?\n",
      "Generated Queries:\n",
      "What types of institutions typically use tomography equipment?  \n",
      "Where can I find hospitals with tomography equipment?  \n",
      "Which research facilities have tomography machines?  \n",
      "What are common places that offer tomography services?  \n",
      "How to locate universities with tomography equipment?\n",
      "\n",
      "Processing Question 20: What are the educational resources for Ontology?\n",
      "Generated Queries:\n",
      "What are the best online courses for learning Ontology?  \n",
      "Where can I find free textbooks or academic papers on Ontology?  \n",
      "Are there any universities offering degree programs in Ontology?  \n",
      "What are the key introductory books or primers on Ontology for beginners?  \n",
      "Are there any workshops or conferences focused on Ontology education?\n",
      "\n",
      "Processing Question 21: What is the API of Materials Project?\n",
      "Generated Queries:\n",
      "What is the Materials Project API and its main features?  \n",
      "How to access and use the Materials Project API?  \n",
      "What data can be retrieved from the Materials Project API?  \n",
      "Are there any documentation or tutorials for the Materials Project API?  \n",
      "What are the limitations or requirements for using the Materials Project API?\n",
      "\n",
      "Processing Question 22: Which simulation software have a python API?\n",
      "Generated Queries:\n",
      "Which simulation software provides Python API integration?  \n",
      "List of simulation tools with Python scripting capabilities  \n",
      "Comparison of Python APIs in popular simulation software  \n",
      "How to use Python with COMSOL/ANSYS/OpenFOAM for simulations?  \n",
      "Open-source simulation software with Python API support\n",
      "\n",
      "Processing Question 23: What is the documentation of the \"MatDB Online\"?\n",
      "Generated Queries:\n",
      "What is MatDB Online and its primary purpose?  \n",
      "Who are the developers or organizations behind MatDB Online?  \n",
      "What types of data or materials are available in MatDB Online?  \n",
      "How can users access or interact with MatDB Online?  \n",
      "Are there any publications or case studies related to MatDB Online?\n",
      "\n",
      "Processing Question 24: What are the types of software licenses?\n",
      "Generated Queries:\n",
      "What are the main categories of software licenses?  \n",
      "What is the difference between proprietary and open-source licenses?  \n",
      "How do permissive and copyleft licenses differ in software licensing?  \n",
      "What are some examples of common software licenses and their use cases?  \n",
      "What legal considerations should be taken into account when choosing a software license?\n",
      "\n",
      "Processing Question 25: What are the software used to produce the data in the Materials Cloud repository?\n",
      "Generated Queries:\n",
      "What software tools are commonly used for computational materials science?  \n",
      "How is data typically generated and stored in the Materials Cloud repository?  \n",
      "What are the standard data formats and workflows in materials science repositories?  \n",
      "Which simulation and modeling software are integrated with Materials Cloud?  \n",
      "Are there any documentation or guidelines on data production for Materials Cloud?\n",
      "\n",
      "Processing Question 26: What are datasets produced by the BAM organization?\n",
      "Generated Queries:\n",
      "What is the BAM organization and what is its primary focus?  \n",
      "What types of datasets does the BAM organization typically produce or manage?  \n",
      "Are the datasets produced by BAM publicly available, and where can they be accessed?  \n",
      "How are the datasets from BAM used in research or industry applications?  \n",
      "What are some examples of specific datasets released by the BAM organization?\n",
      "\n",
      "Processing Question 27: What are some available datasets of mechanical properties of steels?\n",
      "Generated Queries:\n",
      "What datasets include tensile strength data for various steel grades?  \n",
      "Where can I find datasets with hardness measurements for different types of steel?  \n",
      "Are there publicly available datasets for steel fatigue properties?  \n",
      "Which repositories or databases provide yield strength data for steels?  \n",
      "What sources offer datasets on the impact toughness of steels at different temperatures?\n",
      "\n",
      "Processing Question 28: What are datasets related to \"Transmission electron microscopy\"?\n",
      "Generated Queries:\n",
      "What are the most commonly used datasets in Transmission Electron Microscopy (TEM) research?  \n",
      "Where can I find publicly available TEM image datasets for machine learning applications?  \n",
      "What are the key features and metadata included in TEM datasets?  \n",
      "How are TEM datasets typically annotated and labeled for analysis?  \n",
      "Are there any benchmark datasets for evaluating TEM image processing algorithms?\n",
      "\n",
      "Processing Question 29: What is the license of the dataset \"Elastic Constant Demo Data\"?\n",
      "Generated Queries:\n",
      "What is the \"Elastic Constant Demo Data\" dataset?  \n",
      "Who created or published the \"Elastic Constant Demo Data\" dataset?  \n",
      "Where can the \"Elastic Constant Demo Data\" dataset be accessed or downloaded?  \n",
      "What are the terms of use for the \"Elastic Constant Demo Data\" dataset?  \n",
      "Is the \"Elastic Constant Demo Data\" dataset open source or proprietary?\n",
      "\n",
      "Processing Question 30: What is the repository for \"BAM reference data\"?\n",
      "Generated Queries:\n",
      "What is BAM reference data in bioinformatics?  \n",
      "Where can I find BAM reference data repositories?  \n",
      "What are common sources for BAM reference data?  \n",
      "How is BAM reference data used in genomic analysis?  \n",
      "What file formats are associated with BAM reference data?\n",
      "\n",
      "Processing Question 31: What are the different data formats in the \"BAM reference data\"?\n",
      "Generated Queries:\n",
      "What is a BAM file in bioinformatics?  \n",
      "What types of reference data are commonly used with BAM files?  \n",
      "How are BAM files structured and what data do they contain?  \n",
      "What are the differences between BAM, SAM, and CRAM file formats?  \n",
      "What tools or software are used to process and analyze BAM reference data?\n",
      "\n",
      "Processing Question 32: What is the software version of \"pacemaker\"?\n",
      "Generated Queries:\n",
      "What is the current version of Pacemaker cluster software?  \n",
      "How to check the installed Pacemaker version on Linux?  \n",
      "Pacemaker software release notes and changelog  \n",
      "Comparison of Pacemaker versions and features  \n",
      "Where to download the latest Pacemaker version?\n",
      "\n",
      "Processing Question 33: What is the field of research \"BAM reference data\"?\n",
      "Generated Queries:\n",
      "What is BAM reference data in genomics?  \n",
      "How is BAM reference data used in bioinformatics?  \n",
      "What are the key components of BAM reference data?  \n",
      "What tools or software are used to analyze BAM reference data?  \n",
      "What are the differences between BAM and SAM reference data formats?\n",
      "\n",
      "Processing Question 34: What is the description of the \"BAM reference data\"?\n",
      "Generated Queries:\n",
      "What is BAM reference data in bioinformatics?  \n",
      "How is BAM reference data used in genomic sequencing?  \n",
      "What are the components of BAM reference data?  \n",
      "How does BAM reference data differ from other genomic file formats?  \n",
      "Where can I find publicly available BAM reference datasets?\n",
      "\n",
      "Processing Question 35: What are the datasets produced in 2022?\n",
      "Generated Queries:\n",
      "List of datasets released in 2022  \n",
      "Most popular datasets published in 2022  \n",
      "2022 dataset releases by research institutions  \n",
      "New open-source datasets introduced in 2022  \n",
      "Government datasets published in 2022\n",
      "\n",
      "Processing Question 36: Who is the creators of the \"BAM reference data\"?\n",
      "Generated Queries:\n",
      "Who created the BAM reference data?  \n",
      "What is BAM reference data used for?  \n",
      "Which organization or institution developed the BAM reference data?  \n",
      "Are there any publications or papers about the BAM reference data creators?  \n",
      "What are the key features of the BAM reference data?\n",
      "\n",
      "Processing Question 37: What are the datasets published by \"BAM\"?\n",
      "Generated Queries:\n",
      "What is \"BAM\" and what does it stand for?  \n",
      "List of datasets published by BAM  \n",
      "How to access BAM datasets  \n",
      "BAM dataset categories or types  \n",
      "Recent updates or additions to BAM datasets\n",
      "Processed data saved to: ../data/MSE-KG/BGEM3/Competency_Question_QD_BGEM3.xlsx\n"
     ]
    }
   ],
   "source": [
    "from openai import OpenAI\n",
    "import pandas as pd\n",
    "import time\n",
    "\n",
    "# Set DeepSeek API key securely\n",
    "client = OpenAI(api_key=API_KEY, base_url=\"https://api.deepseek.com\")\n",
    "\n",
    "# Define the prompt template as a standalone variable\n",
    "PROMPT_TEMPLATE = '''\n",
    "Role:\n",
    "You are a helpful assistant that specializes in decomposing complex questions {Question} into smaller, manageable sub-questions.\n",
    "\n",
    "Instruction:\n",
    "Given an input question, break it down into related sub-questions or sub-problems that could be addressed independently. Each sub-question should be phrased as a search query to help guide further research or exploration.\n",
    "\n",
    "Output Requirements:\n",
    "Generate 5 relevant and distinct search queries based on the input question. Output each query as a separate line, without numbering or quotation marks.\n",
    "\n",
    "'''\n",
    "\n",
    "def get_deepseek_response(question):\n",
    "    prompt = PROMPT_TEMPLATE.format(Question=question)  # Fill the placeholder with the actual question\n",
    "    retries = 5  # Maximum retries\n",
    "    for i in range(retries):\n",
    "        try:\n",
    "            response = client.chat.completions.create(\n",
    "                model=\"deepseek-chat\",\n",
    "                messages=[{\"role\": \"user\", \"content\": prompt}],\n",
    "                max_tokens=300\n",
    "            )\n",
    "            return response.choices[0].message.content.strip()\n",
    "        except Exception as e:\n",
    "            time.sleep(2 ** i + 1)  # Exponential backoff\n",
    "    return \"[API Error: Maximum retries exceeded]\"\n",
    "\n",
    "# Define file paths\n",
    "input_filename = \"../data/MSE-KG/KG_QA/Competency_Question.xlsx\"  # Input file path\n",
    "output_filename = \"../data/MSE-KG/BGEM3/Competency_Question_QD_BGEM3.xlsx\"  # Output file path\n",
    "\n",
    "# Read the Excel file\n",
    "question_df = pd.read_excel(input_filename)\n",
    "\n",
    "# Strip any leading/trailing spaces from the column names\n",
    "question_df.columns = question_df.columns.str.strip()\n",
    "\n",
    "# Print the columns to verify\n",
    "print(\"Columns in the file:\", question_df.columns)\n",
    "\n",
    "# Iterate over each question and apply the DP response function\n",
    "auxiliary_queries = []  # Changed from simplified_phrases to auxiliary_queries\n",
    "print(\"Processing questions... This may take some time.\")\n",
    "for idx, question in enumerate(question_df['Competency Question']):\n",
    "    print(f\"\\nProcessing Question {idx + 1}: {question}\")\n",
    "    auxiliary_query = get_deepseek_response(question)\n",
    "    print(f\"Generated Queries:\\n{auxiliary_query}\")\n",
    "    auxiliary_queries.append(auxiliary_query)\n",
    "\n",
    "\n",
    "# Add the DP responses to the dataframe\n",
    "question_df['Auxiliary Queries'] = auxiliary_queries  # Changed from Simplified Phrases to Auxiliary Queries\n",
    "\n",
    "# Save the results to a new Excel file\n",
    "question_df.to_excel(output_filename, index=False)\n",
    "print(f\"Processed data saved to: {output_filename}\")\n"
   ]
  },
  {
   "cell_type": "markdown",
   "metadata": {},
   "source": [
    "\n",
    " # BGE-M3 Retrieval "
   ]
  },
  {
   "cell_type": "code",
   "execution_count": 4,
   "metadata": {},
   "outputs": [
    {
     "name": "stdout",
     "output_type": "stream",
     "text": [
      "\n",
      "Processing with top_k=10...\n",
      "Final results for top_k=10 saved to ../data/MSE-KG/BGEM3/ontexts_by_BGE_M3_5Decom_10.xlsx\n",
      "\n",
      "Processing with top_k=20...\n",
      "Final results for top_k=20 saved to ../data/MSE-KG/BGEM3/ontexts_by_BGE_M3_5Decom_20.xlsx\n",
      "\n",
      "Processing with top_k=30...\n",
      "Final results for top_k=30 saved to ../data/MSE-KG/BGEM3/ontexts_by_BGE_M3_5Decom_30.xlsx\n",
      "\n",
      "Processing with top_k=40...\n",
      "Final results for top_k=40 saved to ../data/MSE-KG/BGEM3/ontexts_by_BGE_M3_5Decom_40.xlsx\n",
      "\n",
      "Processing with top_k=50...\n",
      "Final results for top_k=50 saved to ../data/MSE-KG/BGEM3/ontexts_by_BGE_M3_5Decom_50.xlsx\n",
      "\n",
      "Processing with top_k=60...\n",
      "Final results for top_k=60 saved to ../data/MSE-KG/BGEM3/ontexts_by_BGE_M3_5Decom_60.xlsx\n",
      "\n",
      "Processing with top_k=70...\n",
      "Final results for top_k=70 saved to ../data/MSE-KG/BGEM3/ontexts_by_BGE_M3_5Decom_70.xlsx\n",
      "\n",
      "Processing with top_k=80...\n",
      "Final results for top_k=80 saved to ../data/MSE-KG/BGEM3/ontexts_by_BGE_M3_5Decom_80.xlsx\n",
      "\n",
      "Processing with top_k=90...\n",
      "Final results for top_k=90 saved to ../data/MSE-KG/BGEM3/ontexts_by_BGE_M3_5Decom_90.xlsx\n",
      "\n",
      "Processing with top_k=100...\n",
      "Final results for top_k=100 saved to ../data/MSE-KG/BGEM3/ontexts_by_BGE_M3_5Decom_100.xlsx\n",
      "All processing completed.\n"
     ]
    }
   ],
   "source": [
    "import pandas as pd\n",
    "import numpy as np\n",
    "import faiss\n",
    "from langchain.schema import Document\n",
    "from sentence_transformers import SentenceTransformer\n",
    "from FlagEmbedding import FlagModel\n",
    "\n",
    "class FaissRetriever:\n",
    "    def __init__(self, documents, model_name=\"BAAI/bge-m3\"):\n",
    "        \"\"\"\n",
    "        Initialize FAISS retriever with documents and embedding model.\n",
    "        Automatically filter, encode, and index documents.\n",
    "        \"\"\"\n",
    "        # Filter and prepare documents\n",
    "        self.documents = [Document(page_content=line.strip(), metadata={\"id\": idx}) \n",
    "                          for idx, line in enumerate(documents) if len(line.strip()) > 5]\n",
    "        \n",
    "        # Initialize embedding model\n",
    "        self.model = SentenceTransformer(model_name)\n",
    "        \n",
    "        # Generate and normalize embeddings\n",
    "        text_contents = [doc.page_content for doc in self.documents]\n",
    "        embeddings = self.model.encode(text_contents, convert_to_tensor=False)\n",
    "        self.embeddings = np.array(embeddings).astype(\"float32\")\n",
    "        faiss.normalize_L2(self.embeddings)\n",
    "\n",
    "        # Build FAISS index\n",
    "        self.index = faiss.IndexFlatIP(self.embeddings.shape[1])\n",
    "        self.index.add(self.embeddings)\n",
    "\n",
    "    def GetFaissTopK(self, query, topk):\n",
    "        \"\"\"\n",
    "        Retrieve top-k most relevant documents with similarity scores.\n",
    "        Returns: List[Document] with scores in metadata.\n",
    "        \"\"\"\n",
    "        # Generate and normalize query embedding\n",
    "        query_embedding = self.model.encode([query], convert_to_tensor=False)\n",
    "        query_embedding = np.array(query_embedding).astype(\"float32\")\n",
    "        faiss.normalize_L2(query_embedding)\n",
    "\n",
    "        valid_topk = min(topk, len(self.documents))\n",
    "        scores, indices = self.index.search(query_embedding, valid_topk)\n",
    "\n",
    "        # Return results with scores\n",
    "        results = []\n",
    "        for idx, score in zip(indices[0], scores[0]):\n",
    "            original_doc = self.documents[idx]\n",
    "            new_metadata = original_doc.metadata.copy()\n",
    "            new_metadata[\"score\"] = float(score)\n",
    "            results.append(Document(\n",
    "                page_content=original_doc.page_content,\n",
    "                metadata=new_metadata\n",
    "            ))\n",
    "        return results\n",
    "\n",
    "# File paths\n",
    "TEXT_FILE_PATH = \"../data/MSE-KG/KGPreprocess/verbalized_triples_np.txt\"\n",
    "EXCEL_FILE_PATH = \"../data/MSE-KG/BGEM3/Competency_Question_QD_BGEM3.xlsx\"\n",
    "\n",
    "# Load documents\n",
    "with open(TEXT_FILE_PATH, \"r\", encoding=\"utf-8\") as file:\n",
    "    document_lines = file.readlines()\n",
    "\n",
    "# Initialize FAISS retriever\n",
    "faiss_retriever = FaissRetriever(document_lines)\n",
    "\n",
    "# Load Excel file\n",
    "df = pd.read_excel(EXCEL_FILE_PATH)\n",
    "competency_questions = df[\"Competency Question\"].tolist()\n",
    "\n",
    "# Create result DataFrame\n",
    "result_df = df.copy()\n",
    "\n",
    "# Process different top_k values\n",
    "for top_k in range(10, 101, 10):\n",
    "    print(f\"\\nProcessing with top_k={top_k}...\")\n",
    "    \n",
    "    # Process main competency questions\n",
    "    main_results = []\n",
    "    for question in competency_questions:\n",
    "        docs = faiss_retriever.GetFaissTopK(question, top_k)\n",
    "        main_results.append(docs)\n",
    "    \n",
    "    # Process auxiliary queries (5 decomposed questions)\n",
    "    auxiliary_results = []\n",
    "    for query in df[\"Auxiliary Queries\"]:\n",
    "        elements = [elem.strip() for elem in query.split(\"\\n\") if elem.strip()]\n",
    "        if len(elements) < 5:\n",
    "            auxiliary_results.append([])\n",
    "            continue\n",
    "            \n",
    "        # Decompose into 5 sub-queries\n",
    "        sub_queries = elements[:5]\n",
    "        combined_docs = []\n",
    "        \n",
    "        # Retrieve results for each sub-query\n",
    "        for sub_q in sub_queries:\n",
    "            docs = faiss_retriever.GetFaissTopK(sub_q, top_k)\n",
    "            combined_docs.extend(docs)\n",
    "        \n",
    "        auxiliary_results.append(combined_docs)\n",
    "    \n",
    "    # Merge main and auxiliary results\n",
    "    merged_results = []\n",
    "    for main, aux in zip(main_results, auxiliary_results):\n",
    "        # Combine and deduplicate documents (keep the highest score for duplicates)\n",
    "        combined_docs = {}\n",
    "        for doc in main + aux:\n",
    "            content = doc.page_content\n",
    "            score = doc.metadata[\"score\"]\n",
    "            if content not in combined_docs or combined_docs[content][\"score\"] < score:\n",
    "                combined_docs[content] = {\"content\": content, \"score\": score}\n",
    "        \n",
    "        # Sort by relevance score (descending)\n",
    "        sorted_docs = sorted(combined_docs.values(), key=lambda x: x[\"score\"], reverse=True)\n",
    "        \n",
    "        # Format results with content and score\n",
    "        merged_results.append(\" | \".join([\n",
    "            f\"{doc['content']} ({doc['score']:.3f})\" for doc in sorted_docs\n",
    "        ]))\n",
    "    \n",
    "    # Add merged results to DataFrame\n",
    "    result_df[f\"FAISS_TopK_{top_k}\"] = merged_results\n",
    "    \n",
    "    # Final consolidation for the current top_k\n",
    "    final_df = pd.DataFrame({\n",
    "        \"Competency Question\": df[\"Competency Question\"],\n",
    "        \"Ground Truth\": df[\"Ground Truth\"],\n",
    "        \"Auxiliary Queries\": df[\"Auxiliary Queries\"],\n",
    "        \"Contexts\": result_df[f\"FAISS_TopK_{top_k}\"]\n",
    "    })\n",
    "\n",
    "    # Define the final output file path with the new naming convention\n",
    "    final_output_path = f\"../data/MSE-KG/BGEM3/Contexts_by_BGE_M3_5Decom_{top_k}.xlsx\"\n",
    "    \n",
    "    # Save the final DataFrame to an Excel file\n",
    "    final_df.to_excel(final_output_path, index=False)\n",
    "    print(f\"Final results for top_k={top_k} saved to {final_output_path}\")\n",
    "\n",
    "print(\"All processing completed.\")"
   ]
  },
  {
   "cell_type": "code",
   "execution_count": 8,
   "metadata": {},
   "outputs": [
    {
     "name": "stdout",
     "output_type": "stream",
     "text": [
      "Successfully cleaned and saved: ../data/MSE-KG/BGEM3/Contexts_by_BGE_M3_5Decom_10_cleaned.xlsx\n",
      "Successfully cleaned and saved: ../data/MSE-KG/BGEM3/Contexts_by_BGE_M3_5Decom_20_cleaned.xlsx\n",
      "Successfully cleaned and saved: ../data/MSE-KG/BGEM3/Contexts_by_BGE_M3_5Decom_30_cleaned.xlsx\n",
      "Successfully cleaned and saved: ../data/MSE-KG/BGEM3/Contexts_by_BGE_M3_5Decom_40_cleaned.xlsx\n",
      "Successfully cleaned and saved: ../data/MSE-KG/BGEM3/Contexts_by_BGE_M3_5Decom_50_cleaned.xlsx\n",
      "Successfully cleaned and saved: ../data/MSE-KG/BGEM3/Contexts_by_BGE_M3_5Decom_60_cleaned.xlsx\n",
      "Successfully cleaned and saved: ../data/MSE-KG/BGEM3/Contexts_by_BGE_M3_5Decom_70_cleaned.xlsx\n",
      "Successfully cleaned and saved: ../data/MSE-KG/BGEM3/Contexts_by_BGE_M3_5Decom_80_cleaned.xlsx\n",
      "Successfully cleaned and saved: ../data/MSE-KG/BGEM3/Contexts_by_BGE_M3_5Decom_90_cleaned.xlsx\n",
      "Successfully cleaned and saved: ../data/MSE-KG/BGEM3/Contexts_by_BGE_M3_5Decom_100_cleaned.xlsx\n",
      "All files processed successfully.\n"
     ]
    }
   ],
   "source": [
    "import re\n",
    "import os\n",
    "from openpyxl import load_workbook\n",
    "\n",
    "def clean_contexts(file_path):\n",
    "    \"\"\"Clean context data by removing confidence scores and replacing pipes with newlines\"\"\"\n",
    "    # Load Excel file\n",
    "    wb = load_workbook(filename=file_path)\n",
    "    ws = wb.active\n",
    "    \n",
    "    # Process all cells\n",
    "    for row in ws.iter_rows():\n",
    "        for cell in row:\n",
    "            if cell.value and isinstance(cell.value, str):\n",
    "                # Replace pipes with newlines\n",
    "                cleaned_value = cell.value.replace('|', '\\n')\n",
    "                \n",
    "                # Remove confidence scores (0.xxx)\n",
    "                cleaned_value = re.sub(r'\\s*\\(\\d+\\.\\d+\\)', '', cleaned_value)\n",
    "                \n",
    "                # Update cell value\n",
    "                cell.value = cleaned_value.strip()  # Remove any extra whitespace\n",
    "    \n",
    "    # Save cleaned file\n",
    "    new_file_path = file_path.replace('.xlsx', '_cleaned.xlsx')\n",
    "    wb.save(new_file_path)\n",
    "    print(f\"Successfully cleaned and saved: {new_file_path}\")\n",
    "\n",
    "# Directory containing files\n",
    "base_dir = \"../data/MSE-KG/BGEM3/\"\n",
    "\n",
    "# Process files for top_k values from 10 to 100 (in steps of 10)\n",
    "for top_k in range(10, 101, 10):\n",
    "    file_name = f\"Contexts_by_BGE_M3_5Decom_{top_k}.xlsx\"\n",
    "    file_path = os.path.join(base_dir, file_name)\n",
    "    \n",
    "    if os.path.exists(file_path):\n",
    "        clean_contexts(file_path)\n",
    "    else:\n",
    "        print(f\"Warning: File not found - {file_path}\")\n",
    "\n",
    "print(\"All files processed successfully.\")"
   ]
  },
  {
   "cell_type": "markdown",
   "metadata": {},
   "source": [
    "# Generation"
   ]
  },
  {
   "cell_type": "code",
   "execution_count": 12,
   "metadata": {},
   "outputs": [],
   "source": [
    "# Generation Prompt Update\n",
    "GENERATION_PROMPT_TEMPLATE = '''\n",
    "Given the following question and combined factual contexts from two sources (triples and text):\n",
    "\n",
    "Question: {question}\n",
    "Context(s): {contexts}\n",
    "\n",
    "Instructions:\n",
    "1. Use Contexts Effectively: While the contexts provide information, they may contain redundancy. Focus on the most relevant triples that directly answer the question.\n",
    "2. Leverage Understanding: Utilize your ability to comprehend and deduce the most essential details, even if some triples are less relevant or repetitive.\n",
    "3. Direct Answers: Provide answers in a list format of phrases if appropriate, without any introductory phrases or complete sentences. Only provide the key facts.\n",
    "4. Avoid Irrelevant Details: Omit information that does not directly contribute to answering the question.\n",
    "5. List Format: When listing items, separate them with semicolons (;) instead of using dashes (-) or other symbols.\n",
    "6. No Prefixes: Do not include any introductory phrases like \"Based on the provided contexts\" or \"Answer:\".\n",
    "7. No Answer Indication: If no relevant information is found, simply return \"(No Answer)\" without any additional explanation.\n",
    "\n",
    "Examples:\n",
    "Question: Who was the first president of the United States?\n",
    "Contexts:\n",
    "George Washington was the first president of the United States.\n",
    "George Washington took office in 1789.\n",
    "George Washington won both presidential elections.\n",
    "\n",
    "Answer:\n",
    "George Washington\n",
    "'''"
   ]
  },
  {
   "cell_type": "code",
   "execution_count": null,
   "metadata": {},
   "outputs": [
    {
     "name": "stderr",
     "output_type": "stream",
     "text": [
      "Generating Answers:   0%|          | 0/37 [00:00<?, ?it/s]"
     ]
    },
    {
     "name": "stdout",
     "output_type": "stream",
     "text": [
      "\n",
      "Processing Question 1: Who is working in the Computational Materials Science field?\n",
      "\n",
      "Generated Answer:\n",
      "Prof. Stefan Diebels; Dr Sarath Menon; Prof. Dr. Karsten Durst; Christian Dorn; Prof. Dr. Jörg Neugebauer; PD Dr. Franz Roters\n",
      "\n"
     ]
    },
    {
     "name": "stderr",
     "output_type": "stream",
     "text": [
      "Generating Answers:   3%|▎         | 1/37 [00:06<03:58,  6.63s/it]"
     ]
    },
    {
     "name": "stdout",
     "output_type": "stream",
     "text": [
      "\n",
      "Processing Question 2: What are the research projects associated to EMMO?\n",
      "\n",
      "Generated Answer:\n",
      "VIMMP (2018-2021); NanoMECommons (2021-2025); EMMC-CSA (2016-2019); OpenModel (2021-2025); ReaxPro (2019-2023); MarketPlace (2018-2022); SimDOME (2019-2023); OYSTER (2017-2021); OntoCommons (2020-2023); OntoTrans (2020-2024)\n",
      "\n"
     ]
    },
    {
     "name": "stderr",
     "output_type": "stream",
     "text": [
      "Generating Answers:   5%|▌         | 2/37 [00:17<05:09,  8.85s/it]"
     ]
    },
    {
     "name": "stdout",
     "output_type": "stream",
     "text": [
      "\n",
      "Processing Question 3: Who are the contributors of the data \"datasets\"?\n",
      "\n",
      "Generated Answer:\n",
      "Prof. Felix Fritzen; Frederik Larsson; Oliver Weeger; Mauricio Fernández\n",
      "\n"
     ]
    },
    {
     "name": "stderr",
     "output_type": "stream",
     "text": [
      "Generating Answers:   8%|▊         | 3/37 [00:24<04:32,  8.02s/it]"
     ]
    },
    {
     "name": "stdout",
     "output_type": "stream",
     "text": [
      "\n",
      "Processing Question 4: Who is working with Researcher \"Ebrahim Norouzi\" in the same group?\n",
      "\n",
      "Generated Answer:\n",
      "(No Answer)\n",
      "\n"
     ]
    },
    {
     "name": "stderr",
     "output_type": "stream",
     "text": [
      "Generating Answers:  11%|█         | 4/37 [00:31<04:18,  7.85s/it]"
     ]
    },
    {
     "name": "stdout",
     "output_type": "stream",
     "text": [
      "\n",
      "Processing Question 5: who is the email address of \"ParaView\"?\n",
      "\n",
      "Generated Answer:\n",
      "support@kitware.com\n",
      "\n"
     ]
    },
    {
     "name": "stderr",
     "output_type": "stream",
     "text": [
      "Generating Answers:  14%|█▎        | 5/37 [00:36<03:40,  6.90s/it]"
     ]
    },
    {
     "name": "stdout",
     "output_type": "stream",
     "text": [
      "\n",
      "Processing Question 6: What are the affilliations of Volker Hofmann?\n",
      "\n",
      "Generated Answer:\n",
      "Forschungszentrum Jülich\n",
      "\n"
     ]
    },
    {
     "name": "stderr",
     "output_type": "stream",
     "text": [
      "Generating Answers:  16%|█▌        | 6/37 [00:43<03:30,  6.79s/it]"
     ]
    },
    {
     "name": "stdout",
     "output_type": "stream",
     "text": [
      "\n",
      "Processing Question 7: What is \"Molecular Dynamics\" Software? List the programming language, documentation page, repository, and license information.\n",
      "\n",
      "Generated Answer:\n",
      "Visual Molecular Dynamics: programming language (No Answer); documentation page https://www.ks.uiuc.edu/Research/vmd/current/ug/; repository (No Answer); license Distribution specific, VMD Software License Agreement;  \n",
      "High-Throughput Molecular Dynamics: programming language python; documentation page (No Answer); repository https://github.com/Acellera/htmd; license Vendor specific license. HTMD Software Not-for-Profit License Agreement v1.1;  \n",
      "The ITAP Molecular Dynamics Program: programming language C; programming language C++; documentation page \"http://imd.itap.physik.uni-stuttgart.de/userguide/imd.html\"; repository https://github.com/itapmd; license GNU General Public License v3;  \n",
      "Carr Parrinello Molecular Dynamics: programming language Fortran; documentation page (No Answer); repository (No Answer); license (No Answer);  \n",
      "Qbox First-Principles Molecular Dynamics: programming language C++; documentation page http://qboxcode.org/doc/html/; repository http://scherzo.ucdavis.edu/qbox/qbox-public; license (No Answer)\n",
      "\n"
     ]
    },
    {
     "name": "stderr",
     "output_type": "stream",
     "text": [
      "Generating Answers:  19%|█▉        | 7/37 [00:59<04:52,  9.74s/it]"
     ]
    },
    {
     "name": "stdout",
     "output_type": "stream",
     "text": [
      "\n",
      "Processing Question 8: What are pre- and post-processing tools for MD simulations?\n",
      "\n",
      "Generated Answer:\n",
      "Atomicrex; LAMMPS; Pyiron; Runner; Sphinx; paraview; python; OVITO; TAMkin; Atomic Simulation Environment\n",
      "\n"
     ]
    },
    {
     "name": "stderr",
     "output_type": "stream",
     "text": [
      "Generating Answers:  22%|██▏       | 8/37 [01:05<04:14,  8.77s/it]"
     ]
    },
    {
     "name": "stdout",
     "output_type": "stream",
     "text": [
      "\n",
      "Processing Question 9: What are some workflow environments for computational materials science?\n",
      "\n",
      "Generated Answer:\n",
      "Materials Cloud; Automated interactive infrastructure and database for computational science; Computational Autonomy for Materials Discovery; NIST Materials Data Curation System; Materials Platform for Data Science; MatNavi: NIMS Materials Database; Matbench\n",
      "\n"
     ]
    },
    {
     "name": "stderr",
     "output_type": "stream",
     "text": [
      "Generating Answers:  24%|██▍       | 9/37 [01:12<03:49,  8.20s/it]"
     ]
    },
    {
     "name": "stdout",
     "output_type": "stream",
     "text": [
      "\n",
      "Processing Question 10: How should I cite pyiron?\n",
      "\n",
      "Generated Answer:\n",
      "{pyiron: An integrated development environment for computational materials science}; Computational Materials Science; 163; 24 - 36; 2019; https://doi.org/10.1016/j.commatsci.2018.07.043; Jan Janssen; Sudarsan Surendralal; Yury Lysogorskiy; Mira Todorova; Tilmann Hickel; Ralf Drautz; Jörg Neugebauer\n",
      "\n"
     ]
    },
    {
     "name": "stderr",
     "output_type": "stream",
     "text": [
      "Generating Answers:  27%|██▋       | 10/37 [01:22<03:54,  8.69s/it]"
     ]
    },
    {
     "name": "stdout",
     "output_type": "stream",
     "text": [
      "\n",
      "Processing Question 11: Where can I find a list of interatomic potentials?\n",
      "\n",
      "Generated Answer:\n",
      "https://www.ctcms.nist.gov/potentials/; OpenKIM\n",
      "\n"
     ]
    },
    {
     "name": "stderr",
     "output_type": "stream",
     "text": [
      "Generating Answers:  30%|██▉       | 11/37 [01:28<03:24,  7.88s/it]"
     ]
    },
    {
     "name": "stdout",
     "output_type": "stream",
     "text": [
      "\n",
      "Processing Question 12: What are python libraries used for calculating local atomic structural environment?\n",
      "\n",
      "Generated Answer:\n",
      "Pyscal; freud; icet; GB_code\n",
      "\n"
     ]
    },
    {
     "name": "stderr",
     "output_type": "stream",
     "text": [
      "Generating Answers:  32%|███▏      | 12/37 [01:34<03:04,  7.39s/it]"
     ]
    },
    {
     "name": "stdout",
     "output_type": "stream",
     "text": [
      "\n",
      "Processing Question 13: What are the electronic lab notebooks available?\n",
      "\n",
      "Generated Answer:\n",
      "eLabFTW; OpenBIS\n",
      "\n"
     ]
    },
    {
     "name": "stderr",
     "output_type": "stream",
     "text": [
      "Generating Answers:  35%|███▌      | 13/37 [01:40<02:44,  6.84s/it]"
     ]
    },
    {
     "name": "stdout",
     "output_type": "stream",
     "text": [
      "\n",
      "Processing Question 14: What are the software for Molecular Dynamics (MD)?\n",
      "\n",
      "Generated Answer:\n",
      "GROMACS; LAMMPS; Visual Molecular Dynamics; Carr Parrinello Molecular Dynamics; MD++; Simulation Environment for Atomistic and Molecular Modeling; High-Throughput Molecular Dynamics; The ITAP Molecular Dynamics Program; CP2K; Cluster Expansion in Atomic Simulation Environment; Atomic Simulation Recipes; Calphy\n",
      "\n"
     ]
    },
    {
     "name": "stderr",
     "output_type": "stream",
     "text": [
      "Generating Answers:  38%|███▊      | 14/37 [01:48<02:44,  7.17s/it]"
     ]
    },
    {
     "name": "stdout",
     "output_type": "stream",
     "text": [
      "\n",
      "Processing Question 15: What are the ontologies in nanomaterials domain?\n",
      "\n",
      "Generated Answer:\n",
      "MaterialsMine (MM); NanoParticle Ontology for Cancer Nanotechnology Research (NPO); eNanoMapper ontology; MatWerk ontology; Aditive Manufacturing Ontology (AMONTOLOGY); Material Science and Engineering Ontology (MSEO); Materials And Molecules Basic Ontology (MAMBO); Unified ontology for matrix-inclusion microstructure and composites; dislocation-ontology; Materials-Design-Ontology; Elemental Multiperspective Material Ontology (EMMO)\n",
      "\n"
     ]
    },
    {
     "name": "stderr",
     "output_type": "stream",
     "text": [
      "Generating Answers:  41%|████      | 15/37 [01:58<02:55,  7.97s/it]"
     ]
    },
    {
     "name": "stdout",
     "output_type": "stream",
     "text": [
      "\n",
      "Processing Question 16: What is DAMASK?\n",
      "\n",
      "Generated Answer:\n",
      "Dusseldorf Advanced Material Simulation Kit; unified multi-physics crystal plasticity simulation package; solves continuum mechanical boundary value problems; handles multi-physics problems; uses crystal plasticity method; has repository https://github.com/eisenforschung/damask; has documentation https://damask.mpie.de/documentation/index.html; has website https://damask.mpie.de/; has contact point damask@mpie.de\n",
      "\n"
     ]
    },
    {
     "name": "stderr",
     "output_type": "stream",
     "text": [
      "Generating Answers:  43%|████▎     | 16/37 [02:08<02:58,  8.51s/it]"
     ]
    },
    {
     "name": "stdout",
     "output_type": "stream",
     "text": [
      "\n",
      "Processing Question 17: What are the data portals for materials science ontologies?\n",
      "\n",
      "Generated Answer:\n",
      "Materials Platform for Data Science; MaterialsProject; The Open Quantum Materials Database; Materials Commons; Open Materials Database; Topological Material Database; Inorganic Material Database (AtomWork); Organic Materials Database (OMDB); The Materials Data Facility (MDF); Atomistica\n",
      "\n"
     ]
    },
    {
     "name": "stderr",
     "output_type": "stream",
     "text": [
      "Generating Answers:  46%|████▌     | 17/37 [02:14<02:40,  8.00s/it]"
     ]
    },
    {
     "name": "stdout",
     "output_type": "stream",
     "text": [
      "\n",
      "Processing Question 18: What are the instruments for APT?\n",
      "\n",
      "Generated Answer:\n",
      "Paraprobe-toolbox; pyiron; Jupyter lab; CompositionSpace; Pyiron; python3.9; Paraprobe-toolbox\n",
      "\n"
     ]
    },
    {
     "name": "stderr",
     "output_type": "stream",
     "text": [
      "Generating Answers:  49%|████▊     | 18/37 [02:21<02:25,  7.67s/it]"
     ]
    },
    {
     "name": "stdout",
     "output_type": "stream",
     "text": [
      "\n",
      "Processing Question 19: In which institution can I find tomography equipment?\n",
      "\n",
      "Generated Answer:\n",
      "Universität Stuttgart; TU Kaiserslautern; Technische Universität Darmstadt; RWTH Aachen University; Universität Paderborn; Technische Universität Clausthal; Karlsruher Institut für Technologie\n",
      "\n"
     ]
    },
    {
     "name": "stderr",
     "output_type": "stream",
     "text": [
      "Generating Answers:  51%|█████▏    | 19/37 [02:29<02:16,  7.56s/it]"
     ]
    },
    {
     "name": "stdout",
     "output_type": "stream",
     "text": [
      "\n",
      "Processing Question 20: What are the educational resources for Ontology?\n",
      "\n",
      "Generated Answer:\n",
      "Computational Material Sample Ontology; MatPortal; Material Science and Engineering Ontology (MSEO); Aditive Manufacturing Ontology (AMONTOLOGY); The MatWerk ontology; Materials And Molecules Basic Ontology (MAMBO); MatOnto-Ontologies; Ontologies for Materials Science; MSE Ontology education and training\n",
      "\n"
     ]
    },
    {
     "name": "stderr",
     "output_type": "stream",
     "text": [
      "Generating Answers:  54%|█████▍    | 20/37 [02:37<02:10,  7.70s/it]"
     ]
    },
    {
     "name": "stdout",
     "output_type": "stream",
     "text": [
      "\n",
      "Processing Question 21: What is the API of Materials Project?\n",
      "\n",
      "Generated Answer:\n",
      "Materials Project API is a software; Materials Project API has documentation https://api.materialsproject.org/docs\n",
      "\n"
     ]
    },
    {
     "name": "stderr",
     "output_type": "stream",
     "text": [
      "Generating Answers:  57%|█████▋    | 21/37 [02:42<01:50,  6.91s/it]"
     ]
    },
    {
     "name": "stdout",
     "output_type": "stream",
     "text": [
      "\n",
      "Processing Question 22: Which simulation software have a python API?\n",
      "\n",
      "Generated Answer:\n",
      "Atomic Simulation Environment; Atomic Simulation Recipes; Multiphysics Object Oriented Simulation Environment; DynaPhoPy\n",
      "\n"
     ]
    },
    {
     "name": "stderr",
     "output_type": "stream",
     "text": [
      "Generating Answers:  59%|█████▉    | 22/37 [02:48<01:40,  6.71s/it]"
     ]
    },
    {
     "name": "stdout",
     "output_type": "stream",
     "text": [
      "\n",
      "Processing Question 23: What is the documentation of the \"MatDB Online\"?\n",
      "\n",
      "Generated Answer:\n",
      "https://publications.jrc.ec.europa.eu/repository/handle/JRC75978\n",
      "\n"
     ]
    },
    {
     "name": "stderr",
     "output_type": "stream",
     "text": [
      "Generating Answers:  62%|██████▏   | 23/37 [02:54<01:29,  6.39s/it]"
     ]
    },
    {
     "name": "stdout",
     "output_type": "stream",
     "text": [
      "\n",
      "Processing Question 24: What are the types of software licenses?\n",
      "\n",
      "Generated Answer:\n",
      "Proprietary license; Academic license; no license file; OSI-approved BSD 3-clause License; Commercial license; Apache Licence, Version 2.0; No license; GPLv3+; https://creativecommons.org/licenses/by/4.0/; GPL-2.0 license; Apache license; GPL 3; public domain; MpCCI License Agreement; partly propietary; GPL-3.0 license; Qhull license; Apache-2.0 license; https://creativecommons.org/publicdomain/zero/1.0/\n",
      "\n"
     ]
    },
    {
     "name": "stderr",
     "output_type": "stream",
     "text": [
      "Generating Answers:  65%|██████▍   | 24/37 [03:04<01:36,  7.45s/it]"
     ]
    },
    {
     "name": "stdout",
     "output_type": "stream",
     "text": [
      "\n",
      "Processing Question 25: What are the software used to produce the data in the Materials Cloud repository?\n",
      "\n",
      "Generated Answer:\n",
      "Computational Autonomy for Materials Discovery; Open source package for Material eXplorer; Automated interactive infrastructure and database for computational science; CP2K; Simulation Environment for Atomistic and Molecular Modeling; Graphical Interface for Materials Simulations; LAMMPS; pymatgen; AiiDA\n",
      "\n"
     ]
    },
    {
     "name": "stderr",
     "output_type": "stream",
     "text": [
      "Generating Answers:  68%|██████▊   | 25/37 [03:11<01:30,  7.52s/it]"
     ]
    },
    {
     "name": "stdout",
     "output_type": "stream",
     "text": [
      "\n",
      "Processing Question 26: What are datasets produced by the BAM organization?\n",
      "\n",
      "Generated Answer:\n",
      "Aluminum Elastic Modulus; BAM Dataset: Creating FDO for MatWerk\n",
      "\n"
     ]
    },
    {
     "name": "stderr",
     "output_type": "stream",
     "text": [
      "Generating Answers:  70%|███████   | 26/37 [03:18<01:20,  7.33s/it]"
     ]
    },
    {
     "name": "stdout",
     "output_type": "stream",
     "text": [
      "\n",
      "Processing Question 27: What are some available datasets of mechanical properties of steels?\n",
      "\n",
      "Generated Answer:\n",
      "Full dataset of several mechanical tests on an S355 steel sheet as reference data for digital representations (https://doi.org/10.5281/zenodo.6778336); Metallic Material Database (Kinzoku); MatDat; Thermophysical Property Database\n",
      "\n"
     ]
    },
    {
     "name": "stderr",
     "output_type": "stream",
     "text": [
      "Generating Answers:  73%|███████▎  | 27/37 [03:27<01:17,  7.79s/it]"
     ]
    },
    {
     "name": "stdout",
     "output_type": "stream",
     "text": [
      "\n",
      "Processing Question 28: What are datasets related to \"Transmission electron microscopy\"?\n",
      "\n",
      "Generated Answer:\n",
      "Datasets for the analysis of dislocations at grain boundaries and during vein formation in cyclically deformed Ni micropillars; Radii of S-phase Al2CuMg in Al-alloy EN AW-2618A after different aging times at 190°C; Aluminum Elastic Modulus; Elastic Constant Demo Data\n",
      "\n"
     ]
    },
    {
     "name": "stderr",
     "output_type": "stream",
     "text": [
      "Generating Answers:  76%|███████▌  | 28/37 [03:34<01:09,  7.68s/it]"
     ]
    },
    {
     "name": "stdout",
     "output_type": "stream",
     "text": [
      "\n",
      "Processing Question 29: What is the license of the dataset \"Elastic Constant Demo Data\"?\n",
      "\n",
      "Generated Answer:\n",
      "BSD 3-Clause License\n",
      "\n"
     ]
    },
    {
     "name": "stderr",
     "output_type": "stream",
     "text": [
      "Generating Answers:  78%|███████▊  | 29/37 [03:40<00:55,  6.99s/it]"
     ]
    },
    {
     "name": "stdout",
     "output_type": "stream",
     "text": [
      "\n",
      "Processing Question 30: What is the repository for \"BAM reference data\"?\n",
      "\n",
      "Generated Answer:\n",
      "https://doi.org/10.5281/zenodo.5106606\n",
      "\n"
     ]
    },
    {
     "name": "stderr",
     "output_type": "stream",
     "text": [
      "Generating Answers:  81%|████████  | 30/37 [03:45<00:44,  6.36s/it]"
     ]
    },
    {
     "name": "stdout",
     "output_type": "stream",
     "text": [
      "\n",
      "Processing Question 31: What are the different data formats in the \"BAM reference data\"?\n",
      "\n",
      "Generated Answer:\n",
      "csv; pdf; .json\n",
      "\n"
     ]
    },
    {
     "name": "stderr",
     "output_type": "stream",
     "text": [
      "Generating Answers:  84%|████████▍ | 31/37 [03:50<00:37,  6.21s/it]"
     ]
    },
    {
     "name": "stdout",
     "output_type": "stream",
     "text": [
      "\n",
      "Processing Question 32: What is the software version of \"pacemaker\"?\n",
      "\n",
      "Generated Answer:\n",
      "0.2.7\n",
      "\n"
     ]
    },
    {
     "name": "stderr",
     "output_type": "stream",
     "text": [
      "Generating Answers:  86%|████████▋ | 32/37 [03:56<00:30,  6.13s/it]"
     ]
    },
    {
     "name": "stdout",
     "output_type": "stream",
     "text": [
      "\n",
      "Processing Question 33: What is the field of research \"BAM reference data\"?\n",
      "\n",
      "Generated Answer:\n",
      "Answer:\n",
      "results of ASTM E139 -11 creep tests on a reference material of Nimonic 75 nickel-base alloy; compilation of test results; test data; includes specimens; has creator Prof. Birgit Skrotzki; has datePublished 7/15/2021; has repository https://doi.org/10.5281/zenodo.5106606\n",
      "\n"
     ]
    },
    {
     "name": "stderr",
     "output_type": "stream",
     "text": [
      "Generating Answers:  89%|████████▉ | 33/37 [04:05<00:27,  6.79s/it]"
     ]
    },
    {
     "name": "stdout",
     "output_type": "stream",
     "text": [
      "\n",
      "Processing Question 34: What is the description of the \"BAM reference data\"?\n",
      "\n",
      "Generated Answer:\n",
      "results of ASTM E139 -11 creep tests on a reference material of Nimonic 75 nickel-base alloy; dataset; test data; compilation of test results; includes specimens; has file extension csv; has file extension pdf; has datePublished 7/15/2021; has creator Prof. Birgit Skrotzki; has license Creative Commons Attribution 4.0 International; has repository https://doi.org/10.5281/zenodo.5106606\n",
      "\n"
     ]
    },
    {
     "name": "stderr",
     "output_type": "stream",
     "text": [
      "Generating Answers:  92%|█████████▏| 34/37 [04:15<00:23,  7.90s/it]"
     ]
    },
    {
     "name": "stdout",
     "output_type": "stream",
     "text": [
      "\n",
      "Processing Question 35: What are the datasets produced in 2022?\n",
      "\n",
      "Generated Answer:\n",
      "Metadata schemes for materials science data; Thermo-Calc version 2022b; GROMACS version 2022\n",
      "\n"
     ]
    },
    {
     "name": "stderr",
     "output_type": "stream",
     "text": [
      "Generating Answers:  95%|█████████▍| 35/37 [04:21<00:14,  7.36s/it]"
     ]
    },
    {
     "name": "stdout",
     "output_type": "stream",
     "text": [
      "\n",
      "Processing Question 36: Who is the creators of the \"BAM reference data\"?\n",
      "\n",
      "Generated Answer:\n",
      "Prof. Birgit Skrotzki; Sina Schriever\n",
      "\n"
     ]
    },
    {
     "name": "stderr",
     "output_type": "stream",
     "text": [
      "Generating Answers:  97%|█████████▋| 36/37 [04:28<00:07,  7.13s/it]"
     ]
    },
    {
     "name": "stdout",
     "output_type": "stream",
     "text": [
      "\n",
      "Processing Question 37: What are the datasets published by \"BAM\"?\n",
      "\n",
      "Generated Answer:\n",
      "BAM Dataset: Creating FDO for MatWerk; Aluminum Elastic Modulus; Elastic Constant Demo Data\n",
      "\n"
     ]
    },
    {
     "name": "stderr",
     "output_type": "stream",
     "text": [
      "Generating Answers: 100%|██████████| 37/37 [04:36<00:00,  7.47s/it]\n"
     ]
    },
    {
     "name": "stdout",
     "output_type": "stream",
     "text": [
      "\n",
      "[✓] Saved: ../data/MSE-KG/BGEM3/Predicted_Answers_Contexts_by_BGE_M3_Decom5_10.xlsx\n"
     ]
    },
    {
     "name": "stderr",
     "output_type": "stream",
     "text": [
      "Generating Answers:   0%|          | 0/37 [00:00<?, ?it/s]"
     ]
    },
    {
     "name": "stdout",
     "output_type": "stream",
     "text": [
      "\n",
      "Processing Question 1: Who is working in the Computational Materials Science field?\n",
      "\n",
      "Generated Answer:\n",
      "Prof. Stefan Diebels; Dr Sarath Menon; Prof. Dr. Karsten Durst; Christian Dorn; Prof. Dr. Jörg Neugebauer; PD Dr. habil. Thomas Hammerschmidt; PD Dr. Franz Roters; Dr.-Ing Abril Azocar Guzman; Prof. Dr.-Ing. Stephan Wulfinghoff; Jan Janssen; Sudarsan Surendralal; Yury Lysogorskiy; Mira Todorova; Tilmann Hickel; Ralf Drautz; Jörg Neugebauer; Logan Ward; A. Dunn; A. Faghaninia; N. E. R. Zimmermann; S. Bajaj; Q. Wang; J. H. Montoya; J. Chen; K. Bystrom; M. Dylla; K. Chard; M. Asta; K. Persson; G. J. Snyder; I. Foster; A. Jain; A. Jain; S.P. Ong; G. Hautier; W. Chen; W.D. Richards; S. Dacek; S. Cholia; D. Gunter; D. Skinner; G. Ceder; K.A. Persson; J. E. Saal; S. Kirklin; M. Aykol; B. Meredig; C. Wolverton; A. Thompson; J.W. Doak; S. Rühl\n",
      "\n"
     ]
    },
    {
     "name": "stderr",
     "output_type": "stream",
     "text": [
      "Generating Answers:   3%|▎         | 1/37 [00:21<12:45, 21.26s/it]"
     ]
    },
    {
     "name": "stdout",
     "output_type": "stream",
     "text": [
      "\n",
      "Processing Question 2: What are the research projects associated to EMMO?\n",
      "\n",
      "Generated Answer:\n",
      "VIMMP (2018-2021); NanoMECommons (2021-2025); EMMC-CSA (2016-2019); OpenModel (2021-2025); ReaxPro (2019-2023); MarketPlace (2018-2022); SimDOME (2019-2023); OYSTER (2017-2021); OntoCommons (2020-2023); OntoTrans (2020-2024)\n",
      "\n"
     ]
    },
    {
     "name": "stderr",
     "output_type": "stream",
     "text": [
      "Generating Answers:   5%|▌         | 2/37 [00:30<08:22, 14.35s/it]"
     ]
    },
    {
     "name": "stdout",
     "output_type": "stream",
     "text": [
      "\n",
      "Processing Question 3: Who are the contributors of the data \"datasets\"?\n",
      "\n",
      "Generated Answer:\n",
      "Prof. Felix Fritzen; Frederik Larsson; Oliver Weeger; Mauricio Fernández\n",
      "\n"
     ]
    },
    {
     "name": "stderr",
     "output_type": "stream",
     "text": [
      "Generating Answers:   8%|▊         | 3/37 [00:36<05:51, 10.34s/it]"
     ]
    },
    {
     "name": "stdout",
     "output_type": "stream",
     "text": [
      "\n",
      "Processing Question 4: Who is working with Researcher \"Ebrahim Norouzi\" in the same group?\n",
      "\n",
      "Generated Answer:\n",
      "Mirza Mohtashim Alam\n",
      "\n"
     ]
    },
    {
     "name": "stderr",
     "output_type": "stream",
     "text": [
      "Generating Answers:  11%|█         | 4/37 [00:44<05:09,  9.38s/it]"
     ]
    },
    {
     "name": "stdout",
     "output_type": "stream",
     "text": [
      "\n",
      "Processing Question 5: who is the email address of \"ParaView\"?\n",
      "\n",
      "Generated Answer:\n",
      "support@kitware.com\n",
      "\n"
     ]
    },
    {
     "name": "stderr",
     "output_type": "stream",
     "text": [
      "Generating Answers:  14%|█▎        | 5/37 [00:50<04:27,  8.37s/it]"
     ]
    },
    {
     "name": "stdout",
     "output_type": "stream",
     "text": [
      "\n",
      "Processing Question 6: What are the affilliations of Volker Hofmann?\n",
      "\n",
      "Generated Answer:\n",
      "Forschungszentrum Jülich\n",
      "\n"
     ]
    },
    {
     "name": "stderr",
     "output_type": "stream",
     "text": [
      "Generating Answers:  16%|█▌        | 6/37 [00:55<03:45,  7.28s/it]"
     ]
    },
    {
     "name": "stdout",
     "output_type": "stream",
     "text": [
      "\n",
      "Processing Question 7: What is \"Molecular Dynamics\" Software? List the programming language, documentation page, repository, and license information.\n",
      "\n",
      "Generated Answer:\n",
      "Visual Molecular Dynamics: programming language not specified; documentation page https://www.ks.uiuc.edu/Research/vmd/current/ug/; repository not specified; license Distribution specific, VMD Software License Agreement;  \n",
      "High-Throughput Molecular Dynamics: programming language python; documentation not specified; repository https://github.com/Acellera/htmd; license Vendor specific license. HTMD Software Not-for-Profit License Agreement v1.1;  \n",
      "The ITAP Molecular Dynamics Program: programming language C; programming language C++; documentation http://imd.itap.physik.uni-stuttgart.de/userguide/imd.html; repository https://github.com/itapmd; license GNU General Public License v3;  \n",
      "Carr Parrinello Molecular Dynamics: programming language Fortran; documentation https://www.cpmd.org/wordpress/index.php/documentation/; repository not specified; license CPMD Free License for NPOs;  \n",
      "Qbox First-Principles Molecular Dynamics: programming language C++; documentation http://qboxcode.org/doc/html/; repository http://scherzo.ucdavis.edu/qbox/qbox-public; license GNU General Public License;  \n",
      "MD++: programming language C++; documentation not specified; repository not specified; license not specified\n",
      "\n"
     ]
    },
    {
     "name": "stderr",
     "output_type": "stream",
     "text": [
      "Generating Answers:  19%|█▉        | 7/37 [01:12<05:08, 10.29s/it]"
     ]
    },
    {
     "name": "stdout",
     "output_type": "stream",
     "text": [
      "\n",
      "Processing Question 8: What are pre- and post-processing tools for MD simulations?\n",
      "\n",
      "Generated Answer:\n",
      "Atomicrex; LAMMPS; Pyiron; Runner; Sphinx; Atomic Simulation Environment; OVITO basic; ParaView; TAMkin; ImageJ; MuPIF; MTEX; matminer\n",
      "\n"
     ]
    },
    {
     "name": "stderr",
     "output_type": "stream",
     "text": [
      "Generating Answers:  22%|██▏       | 8/37 [01:19<04:31,  9.36s/it]"
     ]
    },
    {
     "name": "stdout",
     "output_type": "stream",
     "text": [
      "\n",
      "Processing Question 9: What are some workflow environments for computational materials science?\n",
      "\n",
      "Generated Answer:\n",
      "Materials Cloud; pyiron; SimStack; Automated interactive infrastructure and database for computational science; LAMMPS; Pyiron; Runner; Atomicrex; Sphinx; Vienna Ab initio Simulation Package; CP2K; BigDFT; PARSEC; OpenPhase; NIST Materials Data Curation System; Simulation Environment for Atomistic and Molecular Modeling; Computational Autonomy for Materials Discovery; icet; WulffPack; dynasor; hiPhive; Matbench; PyMKS; Metador\n",
      "\n"
     ]
    },
    {
     "name": "stderr",
     "output_type": "stream",
     "text": [
      "Generating Answers:  24%|██▍       | 9/37 [01:30<04:33,  9.75s/it]"
     ]
    },
    {
     "name": "stdout",
     "output_type": "stream",
     "text": [
      "\n",
      "Processing Question 10: How should I cite pyiron?\n",
      "\n",
      "Generated Answer:\n",
      "title = {pyiron: An integrated development environment for computational materials science}; journal = {Computational Materials Science}; volume = {163}; pages = {24 - 36}; year = {2019}; issn = {0927-0256}; doi = {https://doi.org/10.1016/j.commatsci.2018.07.043}; url = {http://www.sciencedirect.com/science/article/pii/S0927025618304786}; author = {Jan Janssen and Sudarsan Surendralal and Yury Lysogorskiy and Mira Todorova and Tilmann Hickel and Ralf Drautz and Jörg Neugebauer}\n",
      "\n"
     ]
    },
    {
     "name": "stderr",
     "output_type": "stream",
     "text": [
      "Generating Answers:  27%|██▋       | 10/37 [01:41<04:33, 10.13s/it]"
     ]
    },
    {
     "name": "stdout",
     "output_type": "stream",
     "text": [
      "\n",
      "Processing Question 11: Where can I find a list of interatomic potentials?\n",
      "\n",
      "Generated Answer:\n",
      "https://www.ctcms.nist.gov/potentials/; OpenKIM\n",
      "\n"
     ]
    },
    {
     "name": "stderr",
     "output_type": "stream",
     "text": [
      "Generating Answers:  30%|██▉       | 11/37 [01:49<04:07,  9.51s/it]"
     ]
    },
    {
     "name": "stdout",
     "output_type": "stream",
     "text": [
      "\n",
      "Processing Question 12: What are python libraries used for calculating local atomic structural environment?\n",
      "\n",
      "Generated Answer:\n",
      "Pyscal; freud; Pyretis; GB_code; pymatgen; pymks; Atomic Simulation Environment; pyscal_rdf; icet; FitSNAP\n",
      "\n"
     ]
    },
    {
     "name": "stderr",
     "output_type": "stream",
     "text": [
      "Generating Answers:  32%|███▏      | 12/37 [01:55<03:34,  8.58s/it]"
     ]
    },
    {
     "name": "stdout",
     "output_type": "stream",
     "text": [
      "\n",
      "Processing Question 13: What are the electronic lab notebooks available?\n",
      "\n",
      "Generated Answer:\n",
      "eLabFTW; OpenBIS\n",
      "\n"
     ]
    },
    {
     "name": "stderr",
     "output_type": "stream",
     "text": [
      "Generating Answers:  35%|███▌      | 13/37 [02:01<03:05,  7.73s/it]"
     ]
    },
    {
     "name": "stdout",
     "output_type": "stream",
     "text": [
      "\n",
      "Processing Question 14: What are the software for Molecular Dynamics (MD)?\n",
      "\n",
      "Generated Answer:\n",
      "GROMACS; LAMMPS; Visual Molecular Dynamics; Carr Parrinello Molecular Dynamics; MD++; The ITAP Molecular Dynamics Program; Simulation Environment for Atomistic and Molecular Modeling; High-Throughput Molecular Dynamics; Qbox First-Principles Molecular Dynamics; CP2K; TURBOMOLE; Atomic Simulation Environment; AML\n",
      "\n"
     ]
    },
    {
     "name": "stderr",
     "output_type": "stream",
     "text": [
      "Generating Answers:  38%|███▊      | 14/37 [02:11<03:10,  8.30s/it]"
     ]
    },
    {
     "name": "stdout",
     "output_type": "stream",
     "text": [
      "\n",
      "Processing Question 15: What are the ontologies in nanomaterials domain?\n",
      "\n",
      "Generated Answer:\n",
      "MaterialsMine (MM); NanoParticle Ontology for Cancer Nanotechnology Research (NPO); eNanoMapper ontology; MatWerk ontology; Additive Manufacturing Ontology (AMONTOLOGY); Material Science and Engineering Ontology (MSEO); Dislocation Ontology (DISO); Virtual Materials Marketplace (VIMMP) Ontologies; Materials And Molecules Basic Ontology (MAMBO); Characterisation Methodology Domain Ontology (CHAMEO); Materials-Design-Ontology\n",
      "\n"
     ]
    },
    {
     "name": "stderr",
     "output_type": "stream",
     "text": [
      "Generating Answers:  41%|████      | 15/37 [02:21<03:12,  8.74s/it]"
     ]
    },
    {
     "name": "stdout",
     "output_type": "stream",
     "text": [
      "\n",
      "Processing Question 16: What is DAMASK?\n",
      "\n",
      "Generated Answer:\n",
      "Dusseldorf Advanced Material Simulation Kit; unified multi-physics crystal plasticity simulation package; research software; uses method crystal plasticity; has repository https://github.com/eisenforschung/damask; has documentation https://damask.mpie.de/documentation/index.html; has website https://damask.mpie.de/; has contact point damask@mpie.de\n",
      "\n"
     ]
    },
    {
     "name": "stderr",
     "output_type": "stream",
     "text": [
      "Generating Answers:  43%|████▎     | 16/37 [02:30<03:05,  8.82s/it]"
     ]
    },
    {
     "name": "stdout",
     "output_type": "stream",
     "text": [
      "\n",
      "Processing Question 17: What are the data portals for materials science ontologies?\n",
      "\n",
      "Generated Answer:\n",
      "MatPortal; Materials Platform for Data Science; MaterialsProject; The Open Quantum Materials Database; Materials Commons; Open Materials Database; Topological Material Database; The Materials Data Facility (MDF); Inorganic Material Database (AtomWork); Novel Materials Discovery (NOMAD); Materials Cloud; Carolina Materials Database; Organic Materials Database (OMDB); Materials Data Repository; MatNavi: NIMS Materials Database; Atomistica\n",
      "\n"
     ]
    },
    {
     "name": "stderr",
     "output_type": "stream",
     "text": [
      "Generating Answers:  46%|████▌     | 17/37 [02:38<02:52,  8.64s/it]"
     ]
    },
    {
     "name": "stdout",
     "output_type": "stream",
     "text": [
      "\n",
      "Processing Question 18: What are the instruments for APT?\n",
      "\n",
      "Generated Answer:\n",
      "Paraprobe-toolbox; pyiron; Jupyter lab; CompositionSpace; Atom Probe Tomography; python3.9\n",
      "\n"
     ]
    },
    {
     "name": "stderr",
     "output_type": "stream",
     "text": [
      "Generating Answers:  49%|████▊     | 18/37 [02:44<02:29,  7.86s/it]"
     ]
    },
    {
     "name": "stdout",
     "output_type": "stream",
     "text": [
      "\n",
      "Processing Question 19: In which institution can I find tomography equipment?\n",
      "\n",
      "Generated Answer:\n",
      "Universität Stuttgart; TU Kaiserslautern; Technische Universität Darmstadt; RWTH Aachen University; Universität Paderborn; Technische Universität Clausthal; Karlsruher Institut für Technologie; Saarland University\n",
      "\n"
     ]
    },
    {
     "name": "stderr",
     "output_type": "stream",
     "text": [
      "Generating Answers:  51%|█████▏    | 19/37 [02:52<02:20,  7.82s/it]"
     ]
    },
    {
     "name": "stdout",
     "output_type": "stream",
     "text": [
      "\n",
      "Processing Question 20: What are the educational resources for Ontology?\n",
      "\n",
      "Generated Answer:\n",
      "Computational Material Sample Ontology; MatPortal; Material Science and Engineering Ontology (MSEO); Aditive Manufacturing Ontology (AMONTOLOGY); The MatWerk ontology; Materials And Molecules Basic Ontology (MAMBO); Virtual Materials Marketplace (VIMMP) Ontologies; Chemical Methods Ontology (CHMO); Ontologies for Materials Science; MSE Ontology education and training\n",
      "\n"
     ]
    },
    {
     "name": "stderr",
     "output_type": "stream",
     "text": [
      "Generating Answers:  54%|█████▍    | 20/37 [03:01<02:23,  8.41s/it]"
     ]
    },
    {
     "name": "stdout",
     "output_type": "stream",
     "text": [
      "\n",
      "Processing Question 21: What is the API of Materials Project?\n",
      "\n",
      "Generated Answer:\n",
      "Materials Project API is a software; Materials Project API has documentation https://api.materialsproject.org/docs\n",
      "\n"
     ]
    },
    {
     "name": "stderr",
     "output_type": "stream",
     "text": [
      "Generating Answers:  57%|█████▋    | 21/37 [03:07<01:59,  7.49s/it]"
     ]
    },
    {
     "name": "stdout",
     "output_type": "stream",
     "text": [
      "\n",
      "Processing Question 22: Which simulation software have a python API?\n",
      "\n",
      "Generated Answer:\n",
      "Atomic Simulation Environment; Atomic Simulation Recipes; PyLammpsMPI; Multiphysics Object Oriented Simulation Environment; DynaPhoPy; FitSNAP; OPTIMADE python tools; Pyiron; Pymatflow; pySTEM; pacemaker; EMMOntoPy; PARSEC; Pyrho; Image based prediction of the heat conduction tensor\n",
      "\n"
     ]
    },
    {
     "name": "stderr",
     "output_type": "stream",
     "text": [
      "Generating Answers:  59%|█████▉    | 22/37 [03:16<02:00,  8.05s/it]"
     ]
    },
    {
     "name": "stdout",
     "output_type": "stream",
     "text": [
      "\n",
      "Processing Question 23: What is the documentation of the \"MatDB Online\"?\n",
      "\n",
      "Generated Answer:\n",
      "https://publications.jrc.ec.europa.eu/repository/handle/JRC75978; http://dx.doi.org/10.2481/dsj.AMDS-003\n",
      "\n"
     ]
    },
    {
     "name": "stderr",
     "output_type": "stream",
     "text": [
      "Generating Answers:  62%|██████▏   | 23/37 [03:26<02:00,  8.59s/it]"
     ]
    },
    {
     "name": "stdout",
     "output_type": "stream",
     "text": [
      "\n",
      "Processing Question 24: What are the types of software licenses?\n",
      "\n",
      "Generated Answer:\n",
      "Proprietary license; Academic license; no license file; OSI-approved BSD 3-clause License; Commercial license; Apache Licence, Version 2.0; No license; GPLv3+; Creative Commons Attribution 4.0; GPL-2.0 license; GPL license version 3; LGPL-2.1 license; LGPL-3.0 license; Propietary commercial license; Academic and commercial license; CPMD Free License for NPOs; Academic Software Licence (“ASL”); ASL/ BSD-3; Apache license; GPL 3; public domain; MpCCI License Agreement; partly propietary; Creative Commons Public Domain 1.0; Propietary; GPL 3 License; GPL-3.0 license; Qhull license; Apache-2.0 license; Lesser General Public License version 3.0; Propietary academic license; LBNL BSD; OpenPhase license\n",
      "\n"
     ]
    },
    {
     "name": "stderr",
     "output_type": "stream",
     "text": [
      "Generating Answers:  65%|██████▍   | 24/37 [03:41<02:15, 10.39s/it]"
     ]
    },
    {
     "name": "stdout",
     "output_type": "stream",
     "text": [
      "\n",
      "Processing Question 25: What are the software used to produce the data in the Materials Cloud repository?\n",
      "\n",
      "Generated Answer:\n",
      "AiiDA; pymatgen; CP2K; Vienna Ab initio Simulation Package; LAMMPS; Pyiron; Large-scale Atomic/Molecular Massively Parallel Simulator; Simulation Environment for Atomistic and Molecular Modeling; Graphical Interface for Materials Simulations; Open source package for Material eXplorer; Automated interactive infrastructure and database for computational science; Computational Autonomy for Materials Discovery\n",
      "\n"
     ]
    },
    {
     "name": "stderr",
     "output_type": "stream",
     "text": [
      "Generating Answers:  68%|██████▊   | 25/37 [03:50<02:01, 10.09s/it]"
     ]
    },
    {
     "name": "stdout",
     "output_type": "stream",
     "text": [
      "\n",
      "Processing Question 26: What are datasets produced by the BAM organization?\n",
      "\n",
      "Generated Answer:\n",
      "BAM Dataset: Creating FDO for MatWerk; BAM reference data: results of ASTM E139 -11 creep tests on a reference material of Nimonic 75 nickel-base alloy; Aluminum Elastic Modulus\n",
      "\n"
     ]
    },
    {
     "name": "stderr",
     "output_type": "stream",
     "text": [
      "Generating Answers:  70%|███████   | 26/37 [03:57<01:40,  9.15s/it]"
     ]
    },
    {
     "name": "stdout",
     "output_type": "stream",
     "text": [
      "\n",
      "Processing Question 27: What are some available datasets of mechanical properties of steels?\n",
      "\n",
      "Generated Answer:\n",
      "Full dataset of several mechanical tests on an S355 steel sheet as reference data for digital representations; Metallic Material Database (Kinzoku); MatDat; Brinell-Hardness (HBW 2.5/62.5) of Al-alloy EN AW-2618A after different aging times and temperatures; Material Properties Open Database (MPOD)\n",
      "\n"
     ]
    },
    {
     "name": "stderr",
     "output_type": "stream",
     "text": [
      "Generating Answers:  73%|███████▎  | 27/37 [04:06<01:29,  8.98s/it]"
     ]
    },
    {
     "name": "stdout",
     "output_type": "stream",
     "text": [
      "\n",
      "Processing Question 28: What are datasets related to \"Transmission electron microscopy\"?\n",
      "\n",
      "Generated Answer:\n",
      "Datasets for the analysis of dislocations at grain boundaries and during vein formation in cyclically deformed Ni micropillars; Radii of S-phase Al2CuMg in Al-alloy EN AW-2618A after different aging times at 190°C\n",
      "\n"
     ]
    },
    {
     "name": "stderr",
     "output_type": "stream",
     "text": [
      "Generating Answers:  76%|███████▌  | 28/37 [04:13<01:15,  8.42s/it]"
     ]
    },
    {
     "name": "stdout",
     "output_type": "stream",
     "text": [
      "\n",
      "Processing Question 29: What is the license of the dataset \"Elastic Constant Demo Data\"?\n",
      "\n",
      "Generated Answer:\n",
      "BSD 3-Clause License\n",
      "\n"
     ]
    },
    {
     "name": "stderr",
     "output_type": "stream",
     "text": [
      "Generating Answers:  78%|███████▊  | 29/37 [04:18<01:00,  7.51s/it]"
     ]
    },
    {
     "name": "stdout",
     "output_type": "stream",
     "text": [
      "\n",
      "Processing Question 30: What is the repository for \"BAM reference data\"?\n",
      "\n",
      "Generated Answer:\n",
      "https://doi.org/10.5281/zenodo.5106606; https://git.rwth-aachen.de/nfdi-matwerk/ta-mdi/demonstrator_iuc02/-/blob/main/Data%20Schema%20IUC02/04.04.23_PP18_JSON_Schema.json\n",
      "\n"
     ]
    },
    {
     "name": "stderr",
     "output_type": "stream",
     "text": [
      "Generating Answers:  81%|████████  | 30/37 [04:26<00:53,  7.60s/it]"
     ]
    },
    {
     "name": "stdout",
     "output_type": "stream",
     "text": [
      "\n",
      "Processing Question 31: What are the different data formats in the \"BAM reference data\"?\n",
      "\n",
      "Generated Answer:\n",
      "csv; pdf; json\n",
      "\n"
     ]
    },
    {
     "name": "stderr",
     "output_type": "stream",
     "text": [
      "Generating Answers:  84%|████████▍ | 31/37 [04:31<00:41,  6.92s/it]"
     ]
    },
    {
     "name": "stdout",
     "output_type": "stream",
     "text": [
      "\n",
      "Processing Question 32: What is the software version of \"pacemaker\"?\n",
      "\n",
      "Generated Answer:\n",
      "0.2.7\n",
      "\n"
     ]
    },
    {
     "name": "stderr",
     "output_type": "stream",
     "text": [
      "Generating Answers:  86%|████████▋ | 32/37 [04:39<00:35,  7.15s/it]"
     ]
    },
    {
     "name": "stdout",
     "output_type": "stream",
     "text": [
      "\n",
      "Processing Question 33: What is the field of research \"BAM reference data\"?\n",
      "\n",
      "Generated Answer:\n",
      "Answer:\n",
      "results of ASTM E139 -11 creep tests on a reference material of Nimonic 75 nickel-base alloy; compilation of test results; test data; additional information on material; high temperature mechanical behavior; includes specimens; has license Creative Commons Attribution 4.0 International; has file extensions pdf, csv; has creators Prof. Birgit Skrotzki, Sina Schriever; has datePublished 7/15/2021; has repository https://doi.org/10.5281/zenodo.5106606; is about material Nimonic 75 nickel-base alloy; has object type equipment\n",
      "\n"
     ]
    },
    {
     "name": "stderr",
     "output_type": "stream",
     "text": [
      "Generating Answers:  89%|████████▉ | 33/37 [04:48<00:31,  7.86s/it]"
     ]
    },
    {
     "name": "stdout",
     "output_type": "stream",
     "text": [
      "\n",
      "Processing Question 34: What is the description of the \"BAM reference data\"?\n",
      "\n",
      "Generated Answer:\n",
      "results of ASTM E139 -11 creep tests on a reference material of Nimonic 75 nickel-base alloy; dataset; test data; compilation of test results; additional information on material; includes specimens; has license Creative Commons Attribution 4.0 International; has datePublished 7/15/2021; has file extension pdf; has file extension csv; has creator Prof. Birgit Skrotzki; has creator Sina Schriever; is about material Nimonic 75 nickel-base alloy; has object type equipment; has repository https://doi.org/10.5281/zenodo.5106606\n",
      "\n"
     ]
    },
    {
     "name": "stderr",
     "output_type": "stream",
     "text": [
      "Generating Answers:  92%|█████████▏| 34/37 [04:59<00:26,  8.73s/it]"
     ]
    },
    {
     "name": "stdout",
     "output_type": "stream",
     "text": [
      "\n",
      "Processing Question 35: What are the datasets produced in 2022?\n",
      "\n",
      "Generated Answer:\n",
      "Metadata schemes for materials science data published on 5/5/2022; Full dataset of several mechanical tests on an S355 steel sheet published on 6/29/2022\n",
      "\n"
     ]
    },
    {
     "name": "stderr",
     "output_type": "stream",
     "text": [
      "Generating Answers:  95%|█████████▍| 35/37 [05:06<00:16,  8.27s/it]"
     ]
    },
    {
     "name": "stdout",
     "output_type": "stream",
     "text": [
      "\n",
      "Processing Question 36: Who is the creators of the \"BAM reference data\"?\n",
      "\n",
      "Generated Answer:\n",
      "Prof. Birgit Skrotzki; Sina Schriever\n",
      "\n"
     ]
    },
    {
     "name": "stderr",
     "output_type": "stream",
     "text": [
      "Generating Answers:  97%|█████████▋| 36/37 [05:13<00:07,  7.82s/it]"
     ]
    },
    {
     "name": "stdout",
     "output_type": "stream",
     "text": [
      "\n",
      "Processing Question 37: What are the datasets published by \"BAM\"?\n",
      "\n",
      "Generated Answer:\n",
      "BAM Dataset: Creating FDO for MatWerk; BAM reference data: results of ASTM E139 -11 creep tests on a reference material of Nimonic 75 nickel-base alloy; Aluminum Elastic Modulus; Elastic Constant Demo Data\n",
      "\n"
     ]
    },
    {
     "name": "stderr",
     "output_type": "stream",
     "text": [
      "Generating Answers: 100%|██████████| 37/37 [05:21<00:00,  8.68s/it]\n"
     ]
    },
    {
     "name": "stdout",
     "output_type": "stream",
     "text": [
      "\n",
      "[✓] Saved: ../data/MSE-KG/BGEM3/Predicted_Answers_Contexts_by_BGE_M3_Decom5_20.xlsx\n"
     ]
    },
    {
     "name": "stderr",
     "output_type": "stream",
     "text": [
      "Generating Answers:   0%|          | 0/37 [00:00<?, ?it/s]"
     ]
    },
    {
     "name": "stdout",
     "output_type": "stream",
     "text": [
      "\n",
      "Processing Question 1: Who is working in the Computational Materials Science field?\n",
      "\n",
      "Generated Answer:\n",
      "Prof. Stefan Diebels; Dr Sarath Menon; Prof. Dr. Karsten Durst; Christian Dorn; Prof. Dr. Jörg Neugebauer; PD Dr. habil. Thomas Hammerschmidt; PD Dr. Franz Roters; Dr.-Ing Abril Azocar Guzman; Prof. Dr.-Ing. Stephan Wulfinghoff; Jan Janssen; Sudarsan Surendralal; Yury Lysogorskiy; Mira Todorova; Tilmann Hickel; Ralf Drautz; Jörg Neugebauer; L. Ward; A. Dunn; A. Faghaninia; N. E. R. Zimmermann; S. Bajaj; Q. Wang; J. H. Montoya; J. Chen; K. Bystrom; M. Dylla; K. Chard; M. Asta; K. Persson; G. J. Snyder; I. Foster; A. Jain; A. Jain; S.P. Ong; G. Hautier; W. Chen; W.D. Richards; S. Dacek; S. Cholia; D. Gunter; D. Skinner; G. Ceder; K.A. Persson; J. E. Saal; S. Kirklin; M. Aykol; B. Meredig; C. Wolverton; A. Thompson; J.W. Doak; S. Rühl\n",
      "\n"
     ]
    },
    {
     "name": "stderr",
     "output_type": "stream",
     "text": [
      "Generating Answers:   3%|▎         | 1/37 [00:21<12:36, 21.01s/it]"
     ]
    },
    {
     "name": "stdout",
     "output_type": "stream",
     "text": [
      "\n",
      "Processing Question 2: What are the research projects associated to EMMO?\n",
      "\n",
      "Generated Answer:\n",
      "VIMMP (2018-2021); NanoMECommons (2021-2025); EMMC-CSA (2016-2019); OpenModel (2021-2025); ReaxPro (2019-2023); MarketPlace (2018-2022); SimDOME (2019-2023); OYSTER (2017-2021); OntoCommons (2020-2023); OntoTrans (2020-2024)\n",
      "\n"
     ]
    },
    {
     "name": "stderr",
     "output_type": "stream",
     "text": [
      "Generating Answers:   5%|▌         | 2/37 [00:32<08:56, 15.34s/it]"
     ]
    },
    {
     "name": "stdout",
     "output_type": "stream",
     "text": [
      "\n",
      "Processing Question 3: Who are the contributors of the data \"datasets\"?\n",
      "\n",
      "Generated Answer:\n",
      "Prof. Felix Fritzen; Frederik Larsson; Oliver Weeger; Mauricio Fernández\n",
      "\n"
     ]
    },
    {
     "name": "stderr",
     "output_type": "stream",
     "text": [
      "Generating Answers:   8%|▊         | 3/37 [00:42<07:14, 12.79s/it]"
     ]
    },
    {
     "name": "stdout",
     "output_type": "stream",
     "text": [
      "\n",
      "Processing Question 4: Who is working with Researcher \"Ebrahim Norouzi\" in the same group?\n",
      "\n",
      "Generated Answer:\n",
      "Mirza Mohtashim Alam\n",
      "\n"
     ]
    },
    {
     "name": "stderr",
     "output_type": "stream",
     "text": [
      "Generating Answers:  11%|█         | 4/37 [00:50<06:02, 10.97s/it]"
     ]
    },
    {
     "name": "stdout",
     "output_type": "stream",
     "text": [
      "\n",
      "Processing Question 5: who is the email address of \"ParaView\"?\n",
      "\n",
      "Generated Answer:\n",
      "support@kitware.com\n",
      "\n"
     ]
    },
    {
     "name": "stderr",
     "output_type": "stream",
     "text": [
      "Generating Answers:  14%|█▎        | 5/37 [00:56<04:56,  9.26s/it]"
     ]
    },
    {
     "name": "stdout",
     "output_type": "stream",
     "text": [
      "\n",
      "Processing Question 6: What are the affilliations of Volker Hofmann?\n",
      "\n",
      "Generated Answer:\n",
      "Forschungszentrum Jülich\n",
      "\n"
     ]
    },
    {
     "name": "stderr",
     "output_type": "stream",
     "text": [
      "Generating Answers:  16%|█▌        | 6/37 [01:02<04:11,  8.10s/it]"
     ]
    },
    {
     "name": "stdout",
     "output_type": "stream",
     "text": [
      "\n",
      "Processing Question 7: What is \"Molecular Dynamics\" Software? List the programming language, documentation page, repository, and license information.\n",
      "\n",
      "Generated Answer:\n",
      "Visual Molecular Dynamics: programming language not specified; documentation page https://www.ks.uiuc.edu/Research/vmd/current/ug/; repository not specified; license Distribution specific, VMD Software License Agreement;  \n",
      "High-Throughput Molecular Dynamics: programming language python; documentation page not specified; repository https://github.com/Acellera/htmd; license Vendor specific license. HTMD Software Not-for-Profit License Agreement v1.1;  \n",
      "The ITAP Molecular Dynamics Program: programming language C; C++; documentation page \"http://imd.itap.physik.uni-stuttgart.de/userguide/imd.html\"; repository https://github.com/itapmd; license GNU General Public License v3;  \n",
      "Carr Parrinello Molecular Dynamics: programming language Fortran; documentation page https://www.cpmd.org/wordpress/index.php/documentation/; repository not specified; license CPMD Free License for NPOs;  \n",
      "Qbox First-Principles Molecular Dynamics: programming language C++; documentation page http://qboxcode.org/doc/html/; repository http://scherzo.ucdavis.edu/qbox/qbox-public; license GNU General Public License;  \n",
      "Large-scale Atomic/Molecular Massively Parallel Simulator: programming language C++; Fortran; documentation page not specified; repository not specified; license GNU General Public License v2;  \n",
      "MD++: programming language C++; documentation page not specified; repository not specified; license not specified\n",
      "\n"
     ]
    },
    {
     "name": "stderr",
     "output_type": "stream",
     "text": [
      "Generating Answers:  19%|█▉        | 7/37 [01:20<05:38, 11.30s/it]"
     ]
    },
    {
     "name": "stdout",
     "output_type": "stream",
     "text": [
      "\n",
      "Processing Question 8: What are pre- and post-processing tools for MD simulations?\n",
      "\n",
      "Generated Answer:\n",
      "Atomicrex; LAMMPS; Pyiron; Runner; Sphinx; ParaView; Python; OVITO; TAMkin; ImageJ; ImageJ2; Atomic Simulation Environment; High-Throughput Molecular Dynamics (HTMD); MatD3; paraprobe-toolbox; matminer; BIOVIA Materials Studio; Cluster Expansion in Atomic Simulation Environment\n",
      "\n"
     ]
    },
    {
     "name": "stderr",
     "output_type": "stream",
     "text": [
      "Generating Answers:  22%|██▏       | 8/37 [01:30<05:18, 11.00s/it]"
     ]
    },
    {
     "name": "stdout",
     "output_type": "stream",
     "text": [
      "\n",
      "Processing Question 9: What are some workflow environments for computational materials science?\n",
      "\n",
      "Generated Answer:\n",
      "Materials Cloud; pyiron; SimStack; Automated interactive infrastructure and database for computational science; Computational Autonomy for Materials Discovery; Open source package for Material eXplorer; icet; WulffPack; Metador; dynasor; Matbench; hiPhive; PyMKS; Aachen (Aix) Virtual Platform for Materials Processing; Computational Materials Repository (CMR)\n",
      "\n"
     ]
    },
    {
     "name": "stderr",
     "output_type": "stream",
     "text": [
      "Generating Answers:  24%|██▍       | 9/37 [01:39<04:48, 10.31s/it]"
     ]
    },
    {
     "name": "stdout",
     "output_type": "stream",
     "text": [
      "\n",
      "Processing Question 10: How should I cite pyiron?\n",
      "\n",
      "Generated Answer:\n",
      "title = {pyiron: An integrated development environment for computational materials science}; journal = {Computational Materials Science}; volume = {163}; pages = {24 - 36}; year = {2019}; issn = {0927-0256}; doi = {https://doi.org/10.1016/j.commatsci.2018.07.043}; url = {http://www.sciencedirect.com/science/article/pii/S0927025618304786}; author = {Jan Janssen and Sudarsan Surendralal and Yury Lysogorskiy and Mira Todorova and Tilmann Hickel and Ralf Drautz and Jörg Neugebauer}\n",
      "\n"
     ]
    },
    {
     "name": "stderr",
     "output_type": "stream",
     "text": [
      "Generating Answers:  27%|██▋       | 10/37 [01:50<04:44, 10.53s/it]"
     ]
    },
    {
     "name": "stdout",
     "output_type": "stream",
     "text": [
      "\n",
      "Processing Question 11: Where can I find a list of interatomic potentials?\n",
      "\n",
      "Generated Answer:\n",
      "https://www.ctcms.nist.gov/potentials/; https://www.ctcms.nist.gov/potentials/atomman/; https://openkim.org/\n",
      "\n"
     ]
    },
    {
     "name": "stderr",
     "output_type": "stream",
     "text": [
      "Generating Answers:  30%|██▉       | 11/37 [01:59<04:22, 10.11s/it]"
     ]
    },
    {
     "name": "stdout",
     "output_type": "stream",
     "text": [
      "\n",
      "Processing Question 12: What are python libraries used for calculating local atomic structural environment?\n",
      "\n",
      "Generated Answer:\n",
      "Answer:\n",
      "Pyscal; freud; pyscal_rdf; GB_code; Soprano; Atomic Simulation Environment; GPAW\n",
      "\n"
     ]
    },
    {
     "name": "stderr",
     "output_type": "stream",
     "text": [
      "Generating Answers:  32%|███▏      | 12/37 [02:09<04:11, 10.05s/it]"
     ]
    },
    {
     "name": "stdout",
     "output_type": "stream",
     "text": [
      "\n",
      "Processing Question 13: What are the electronic lab notebooks available?\n",
      "\n",
      "Generated Answer:\n",
      "eLabFTW; OpenBIS\n",
      "\n"
     ]
    },
    {
     "name": "stderr",
     "output_type": "stream",
     "text": [
      "Generating Answers:  35%|███▌      | 13/37 [02:14<03:26,  8.62s/it]"
     ]
    },
    {
     "name": "stdout",
     "output_type": "stream",
     "text": [
      "\n",
      "Processing Question 14: What are the software for Molecular Dynamics (MD)?\n",
      "\n",
      "Generated Answer:\n",
      "GROMACS; LAMMPS; Visual Molecular Dynamics; Carr Parrinello Molecular Dynamics; MD++; The ITAP Molecular Dynamics Program; High-Throughput Molecular Dynamics; CP2K; Qbox First-Principles Molecular Dynamics; Simulation Environment for Atomistic and Molecular Modeling; Atomic Simulation Environment; Pyscal; Vcsgc-lammps\n",
      "\n"
     ]
    },
    {
     "name": "stderr",
     "output_type": "stream",
     "text": [
      "Generating Answers:  38%|███▊      | 14/37 [02:26<03:37,  9.47s/it]"
     ]
    },
    {
     "name": "stdout",
     "output_type": "stream",
     "text": [
      "\n",
      "Processing Question 15: What are the ontologies in nanomaterials domain?\n",
      "\n",
      "Generated Answer:\n",
      "MaterialsMine (MM); NanoParticle Ontology for Cancer Nanotechnology Research (NPO); eNanoMapper ontology; MatWerk ontology; Aditive Manufacturing Ontology (AMONTOLOGY); Material Science and Engineering Ontology (MSEO); Dislocation Ontology (DISO); Virtual Materials Marketplace (VIMMP) Ontologies; Materials And Molecules Basic Ontology (MAMBO); Characterisation Methodology Domain Ontology (CHAMEO); Materials Design Ontology (MDO); Chemical Methods Ontology (CHMO)\n",
      "\n"
     ]
    },
    {
     "name": "stderr",
     "output_type": "stream",
     "text": [
      "Generating Answers:  41%|████      | 15/37 [02:35<03:28,  9.50s/it]"
     ]
    },
    {
     "name": "stdout",
     "output_type": "stream",
     "text": [
      "\n",
      "Processing Question 16: What is DAMASK?\n",
      "\n",
      "Generated Answer:\n",
      "Dusseldorf Advanced Material Simulation Kit; unified multi-physics crystal plasticity simulation package; research software; repository https://github.com/eisenforschung/damask; documentation https://damask.mpie.de/documentation/index.html; website https://damask.mpie.de/; contact point damask@mpie.de\n",
      "\n"
     ]
    },
    {
     "name": "stderr",
     "output_type": "stream",
     "text": [
      "Generating Answers:  43%|████▎     | 16/37 [02:43<03:07,  8.95s/it]"
     ]
    },
    {
     "name": "stdout",
     "output_type": "stream",
     "text": [
      "\n",
      "Processing Question 17: What are the data portals for materials science ontologies?\n",
      "\n",
      "Generated Answer:\n",
      "MatPortal; Materials Platform for Data Science; MaterialsProject; The Open Quantum Materials Database; Materials Commons; Open Materials Database; Topological Material Database; The Materials Data Facility (MDF); Inorganic Material Database (AtomWork); Novel Materials Discovery (NOMAD); Materials Cloud; Carolina Materials Database; Organic Materials Database (OMDB); Materials Data Repository; Computational Materials Repository (CMR); MatNavi: NIMS Materials Database; Atomistica\n",
      "\n"
     ]
    },
    {
     "name": "stderr",
     "output_type": "stream",
     "text": [
      "Generating Answers:  46%|████▌     | 17/37 [02:52<03:01,  9.07s/it]"
     ]
    },
    {
     "name": "stdout",
     "output_type": "stream",
     "text": [
      "\n",
      "Processing Question 18: What are the instruments for APT?\n",
      "\n",
      "Generated Answer:\n",
      "Answer:\n",
      "Paraprobe-toolbox; pyiron; Jupyter lab; CompositionSpace; Atom Probe Tomography; python3.9\n",
      "\n"
     ]
    },
    {
     "name": "stderr",
     "output_type": "stream",
     "text": [
      "Generating Answers:  49%|████▊     | 18/37 [03:01<02:52,  9.08s/it]"
     ]
    },
    {
     "name": "stdout",
     "output_type": "stream",
     "text": [
      "\n",
      "Processing Question 19: In which institution can I find tomography equipment?\n",
      "\n",
      "Generated Answer:\n",
      "Universität Stuttgart; TU Kaiserslautern; Technische Universität Darmstadt; RWTH Aachen University; Universität Paderborn; Technische Universität Clausthal; Saarland University; Karlsruher Institut für Technologie; Institute of Materials Science; Procon CT-alpha\n",
      "\n"
     ]
    },
    {
     "name": "stderr",
     "output_type": "stream",
     "text": [
      "Generating Answers:  51%|█████▏    | 19/37 [03:09<02:33,  8.53s/it]"
     ]
    },
    {
     "name": "stdout",
     "output_type": "stream",
     "text": [
      "\n",
      "Processing Question 20: What are the educational resources for Ontology?\n",
      "\n",
      "Generated Answer:\n",
      "Computational Material Sample Ontology; Material Science and Engineering Ontology (MSEO); Aditive Manufacturing Ontology (AMONTOLOGY); MatPortal; Materials And Molecules Basic Ontology (MAMBO); Chemical Methods Ontology (CHMO); Virtual Materials Marketplace (VIMMP) Ontologies; Ontologies for Materials Science; https://github.com/enanomapper/ontologies; https://github.com/inovexcorp/MatOnto-Ontologies\n",
      "\n"
     ]
    },
    {
     "name": "stderr",
     "output_type": "stream",
     "text": [
      "Generating Answers:  54%|█████▍    | 20/37 [03:18<02:27,  8.69s/it]"
     ]
    },
    {
     "name": "stdout",
     "output_type": "stream",
     "text": [
      "\n",
      "Processing Question 21: What is the API of Materials Project?\n",
      "\n",
      "Generated Answer:\n",
      "Materials Project API is a software; Materials Project API has documentation https://api.materialsproject.org/docs\n",
      "\n"
     ]
    },
    {
     "name": "stderr",
     "output_type": "stream",
     "text": [
      "Generating Answers:  57%|█████▋    | 21/37 [03:24<02:08,  8.03s/it]"
     ]
    },
    {
     "name": "stdout",
     "output_type": "stream",
     "text": [
      "\n",
      "Processing Question 22: Which simulation software have a python API?\n",
      "\n",
      "Generated Answer:\n",
      "Atomic Simulation Environment; Atomic Simulation Recipes; PyLammpsMPI; Pyiron; FitSNAP; Dusseldorf Advanced Material Simulation Kit; Multiphysics Object Oriented Simulation Environment; DynaPhoPy; Pyscal; OPTIMADE python tools; Pymatflow; pySTEM; pycalphad; Simmate; EMMOntoPy; pacemaker; Pyrho; Qe-tools; Calphy; BigDFT; Pyretis; NeXpy; PARSEC; OpenPathSampling; SimPhoNy; aviary; Coscine; SimStack; Graphical Interface for Materials Simulations; MAterials Simulation Toolkit (MAST); Organizing Assistant for Comprehensive and Interactive Simulations; Materials Project API; Kim API; pyLabFEA; Image based prediction of the heat conduction tensor; Yet another force field\n",
      "\n"
     ]
    },
    {
     "name": "stderr",
     "output_type": "stream",
     "text": [
      "Generating Answers:  59%|█████▉    | 22/37 [03:37<02:20,  9.38s/it]"
     ]
    },
    {
     "name": "stdout",
     "output_type": "stream",
     "text": [
      "\n",
      "Processing Question 23: What is the documentation of the \"MatDB Online\"?\n",
      "\n",
      "Generated Answer:\n",
      "https://publications.jrc.ec.europa.eu/repository/handle/JRC75978; http://dx.doi.org/10.2481/dsj.AMDS-003\n",
      "\n"
     ]
    },
    {
     "name": "stderr",
     "output_type": "stream",
     "text": [
      "Generating Answers:  62%|██████▏   | 23/37 [03:44<02:00,  8.60s/it]"
     ]
    },
    {
     "name": "stdout",
     "output_type": "stream",
     "text": [
      "\n",
      "Processing Question 24: What are the types of software licenses?\n",
      "\n",
      "Generated Answer:\n",
      "Proprietary license; Academic license; no license file; OSI-approved BSD 3-clause License; Commercial license; Apache Licence, Version 2.0; No license; GPLv3+; GPL-2.0 license; GPL license version 3; LGPL-2.1 license; LGPL-3.0 license; Propietary commercial license; Academic and commercial license; CPMD Free License for NPOs; Apache license; Academic Software Licence (“ASL”); ASL/ BSD-3; Apache License, Version 2.0; Distribution specific, VMD Software License Agreement; MpCCI License Agreement; Propietary; Apache; public domain; GPL 3; GPL 3 License; GPL-3.0 license; Qhull license; Lesser General Public License version 3.0; Distribution specific, VESTA license, free for non-commercial users; Propietary academic license; LBNL BSD; MIT; MIT/GPL; Mozilla Public License Version 2.0; CC-BY\n",
      "\n"
     ]
    },
    {
     "name": "stderr",
     "output_type": "stream",
     "text": [
      "Generating Answers:  65%|██████▍   | 24/37 [03:58<02:13, 10.28s/it]"
     ]
    },
    {
     "name": "stdout",
     "output_type": "stream",
     "text": [
      "\n",
      "Processing Question 25: What are the software used to produce the data in the Materials Cloud repository?\n",
      "\n",
      "Generated Answer:\n",
      "AiiDA; pymatgen; CP2K; LAMMPS; Pyiron; Matminer; Large-scale Atomic/Molecular Massively Parallel Simulator; Vienna Ab initio Simulation Package; Simulation Environment for Atomistic and Molecular Modeling; Graphical Interface for Materials Simulations; Dusseldorf Advanced Material Simulation Kit; MD++; PARSEC; Open source package for Material eXplorer; Computational Autonomy for Materials Discovery; Virtual materials Marketplace; NIST Materials Data Curation System; Karlsruhe Data Infrastructure for Materials Science; X-window crystalline structures and densities\n",
      "\n"
     ]
    },
    {
     "name": "stderr",
     "output_type": "stream",
     "text": [
      "Generating Answers:  68%|██████▊   | 25/37 [04:08<02:02, 10.18s/it]"
     ]
    },
    {
     "name": "stdout",
     "output_type": "stream",
     "text": [
      "\n",
      "Processing Question 26: What are datasets produced by the BAM organization?\n",
      "\n",
      "Generated Answer:\n",
      "BAM Dataset: Creating FDO for MatWerk; BAM reference data: results of ASTM E139 -11 creep tests on a reference material of Nimonic 75 nickel-base alloy\n",
      "\n"
     ]
    },
    {
     "name": "stderr",
     "output_type": "stream",
     "text": [
      "Generating Answers:  70%|███████   | 26/37 [04:17<01:47,  9.75s/it]"
     ]
    },
    {
     "name": "stdout",
     "output_type": "stream",
     "text": [
      "\n",
      "Processing Question 27: What are some available datasets of mechanical properties of steels?\n",
      "\n",
      "Generated Answer:\n",
      "Full dataset of several mechanical tests on an S355 steel sheet as reference data for digital representations; Metallic Material Database (Kinzoku); MatDat; Brinell-Hardness (HBW 2.5/62.5) of Al-alloy EN AW-2618A after different aging times and temperatures; BAM reference data: results of ASTM E139 -11 creep tests on a reference material of Nimonic 75 nickel-base alloy; Thermophysical Property Database; Interatomic potentials repository (NIST); Carolina Materials Database; The Materials Data Facility (MDF); Material Properties Open Database (MPOD); Topological Material Database; MaterialsProject; CCT Diagram Database (CCTD); Materials Platform for Data Science\n",
      "\n"
     ]
    },
    {
     "name": "stderr",
     "output_type": "stream",
     "text": [
      "Generating Answers:  73%|███████▎  | 27/37 [04:30<01:47, 10.76s/it]"
     ]
    },
    {
     "name": "stdout",
     "output_type": "stream",
     "text": [
      "\n",
      "Processing Question 28: What are datasets related to \"Transmission electron microscopy\"?\n",
      "\n",
      "Generated Answer:\n",
      "Datasets for the analysis of dislocations at grain boundaries and during vein formation in cyclically deformed Ni micropillars; Radii of S-phase Al2CuMg in Al-alloy EN AW-2618A after different aging times at 190°C; datasets used in \"On-the-Fly Adaptivity for Nonlinear Twoscale Simulations Using Artificial Neural Networks and Reduced Order Modeling\"\n",
      "\n"
     ]
    },
    {
     "name": "stderr",
     "output_type": "stream",
     "text": [
      "Generating Answers:  76%|███████▌  | 28/37 [04:38<01:31, 10.15s/it]"
     ]
    },
    {
     "name": "stdout",
     "output_type": "stream",
     "text": [
      "\n",
      "Processing Question 29: What is the license of the dataset \"Elastic Constant Demo Data\"?\n",
      "\n",
      "Generated Answer:\n",
      "BSD 3-Clause License\n",
      "\n"
     ]
    },
    {
     "name": "stderr",
     "output_type": "stream",
     "text": [
      "Generating Answers:  78%|███████▊  | 29/37 [04:46<01:14,  9.32s/it]"
     ]
    },
    {
     "name": "stdout",
     "output_type": "stream",
     "text": [
      "\n",
      "Processing Question 30: What is the repository for \"BAM reference data\"?\n",
      "\n",
      "Generated Answer:\n",
      "https://doi.org/10.5281/zenodo.5106606\n",
      "\n"
     ]
    },
    {
     "name": "stderr",
     "output_type": "stream",
     "text": [
      "Generating Answers:  81%|████████  | 30/37 [04:51<00:57,  8.24s/it]"
     ]
    },
    {
     "name": "stdout",
     "output_type": "stream",
     "text": [
      "\n",
      "Processing Question 31: What are the different data formats in the \"BAM reference data\"?\n",
      "\n",
      "Generated Answer:\n",
      "csv; pdf; .json\n",
      "\n"
     ]
    },
    {
     "name": "stderr",
     "output_type": "stream",
     "text": [
      "Generating Answers:  84%|████████▍ | 31/37 [04:57<00:45,  7.55s/it]"
     ]
    },
    {
     "name": "stdout",
     "output_type": "stream",
     "text": [
      "\n",
      "Processing Question 32: What is the software version of \"pacemaker\"?\n",
      "\n",
      "Generated Answer:\n",
      "0.2.7\n",
      "\n"
     ]
    },
    {
     "name": "stderr",
     "output_type": "stream",
     "text": [
      "Generating Answers:  86%|████████▋ | 32/37 [05:03<00:35,  7.02s/it]"
     ]
    },
    {
     "name": "stdout",
     "output_type": "stream",
     "text": [
      "\n",
      "Processing Question 33: What is the field of research \"BAM reference data\"?\n",
      "\n",
      "Generated Answer:\n",
      "Answer:\n",
      "results of ASTM E139 -11 creep tests on a reference material of Nimonic 75 nickel-base alloy; compilation of test results; test data; additional information on material; discipline high temperature mechanical behavior; follows standard ASTM E139 -11; description \"The creep behavior of a certified reference material was determined according to ASTM E139-11 using calibrated equipment of an accredited testing laboratory.\"; about material Nimonic 75 nickel-base alloy; has creator Prof. Birgit Skrotzki; has creator Sina Schriever; has repository https://doi.org/10.5281/zenodo.5106606; has license Creative Commons Attribution 4.0 International; has datePublished 7/15/2021; has file extension pdf; has file extension csv; has object type equipment\n",
      "\n"
     ]
    },
    {
     "name": "stderr",
     "output_type": "stream",
     "text": [
      "Generating Answers:  89%|████████▉ | 33/37 [05:15<00:33,  8.40s/it]"
     ]
    },
    {
     "name": "stdout",
     "output_type": "stream",
     "text": [
      "\n",
      "Processing Question 34: What is the description of the \"BAM reference data\"?\n",
      "\n",
      "Generated Answer:\n",
      "The creep behavior of a certified reference material was determined according to ASTM E139-11 using calibrated equipment of an accredited testing laboratory; results of ASTM E139 -11 creep tests on a reference material of Nimonic 75 nickel-base alloy; compilation of test results; test data; additional information on material; about material Nimonic 75 nickel-base alloy; follows standard ASTM E139 -11; has discipline high temperature mechanical behavior; has creator Prof. Birgit Skrotzki; has creator Sina Schriever; has datePublished 7/15/2021; has license Creative Commons Attribution 4.0 International; has repository https://doi.org/10.5281/zenodo.5106606; has file extension pdf; has file extension csv; has object type equipment\n",
      "\n"
     ]
    },
    {
     "name": "stderr",
     "output_type": "stream",
     "text": [
      "Generating Answers:  92%|█████████▏| 34/37 [05:27<00:28,  9.62s/it]"
     ]
    },
    {
     "name": "stdout",
     "output_type": "stream",
     "text": [
      "\n",
      "Processing Question 35: What are the datasets produced in 2022?\n",
      "\n",
      "Generated Answer:\n",
      "Metadata schemes for materials science data; Full dataset of several mechanical tests on an S355 steel sheet as reference data for digital representations; Dislocation Ontology (DISO)\n",
      "\n"
     ]
    },
    {
     "name": "stderr",
     "output_type": "stream",
     "text": [
      "Generating Answers:  95%|█████████▍| 35/37 [05:33<00:17,  8.54s/it]"
     ]
    },
    {
     "name": "stdout",
     "output_type": "stream",
     "text": [
      "\n",
      "Processing Question 36: Who is the creators of the \"BAM reference data\"?\n",
      "\n",
      "Generated Answer:\n",
      "Prof. Birgit Skrotzki; Sina Schriever\n",
      "\n"
     ]
    },
    {
     "name": "stderr",
     "output_type": "stream",
     "text": [
      "Generating Answers:  97%|█████████▋| 36/37 [05:40<00:07,  7.97s/it]"
     ]
    },
    {
     "name": "stdout",
     "output_type": "stream",
     "text": [
      "\n",
      "Processing Question 37: What are the datasets published by \"BAM\"?\n",
      "\n",
      "Generated Answer:\n",
      "BAM Dataset: Creating FDO for MatWerk; BAM reference data: results of ASTM E139 -11 creep tests on a reference material of Nimonic 75 nickel-base alloy; Aluminum Elastic Modulus; Elastic Constant Demo Data\n",
      "\n"
     ]
    },
    {
     "name": "stderr",
     "output_type": "stream",
     "text": [
      "Generating Answers: 100%|██████████| 37/37 [05:47<00:00,  9.39s/it]\n"
     ]
    },
    {
     "name": "stdout",
     "output_type": "stream",
     "text": [
      "\n",
      "[✓] Saved: ../data/MSE-KG/BGEM3/Predicted_Answers_Contexts_by_BGE_M3_Decom5_30.xlsx\n"
     ]
    },
    {
     "name": "stderr",
     "output_type": "stream",
     "text": [
      "Generating Answers:   0%|          | 0/37 [00:00<?, ?it/s]"
     ]
    },
    {
     "name": "stdout",
     "output_type": "stream",
     "text": [
      "\n",
      "Processing Question 1: Who is working in the Computational Materials Science field?\n",
      "\n",
      "Generated Answer:\n",
      "Prof. Stefan Diebels; Dr Sarath Menon; Prof. Dr. Karsten Durst; Christian Dorn; Prof. Dr. Jörg Neugebauer; PD Dr. habil. Thomas Hammerschmidt; PD Dr. Franz Roters; Dr.-Ing Abril Azocar Guzman; Prof. Dr.-Ing. Stephan Wulfinghoff; Jan Janssen; Sudarsan Surendralal; Yury Lysogorskiy; Mira Todorova; Tilmann Hickel; Ralf Drautz\n",
      "\n"
     ]
    },
    {
     "name": "stderr",
     "output_type": "stream",
     "text": [
      "Generating Answers:   3%|▎         | 1/37 [00:10<06:23, 10.65s/it]"
     ]
    },
    {
     "name": "stdout",
     "output_type": "stream",
     "text": [
      "\n",
      "Processing Question 2: What are the research projects associated to EMMO?\n",
      "\n",
      "Generated Answer:\n",
      "VIMMP (2018-2021); NanoMECommons (2021-2025); EMMC-CSA (2016-2019); OpenModel (2021-2025); ReaxPro (2019-2023); MarketPlace (2018-2022); SimDOME (2019-2023); OYSTER (2017-2021); OntoCommons (2020-2023); OntoTrans (2020-2024)\n",
      "\n"
     ]
    },
    {
     "name": "stderr",
     "output_type": "stream",
     "text": [
      "Generating Answers:   5%|▌         | 2/37 [00:19<05:43,  9.81s/it]"
     ]
    },
    {
     "name": "stdout",
     "output_type": "stream",
     "text": [
      "\n",
      "Processing Question 3: Who are the contributors of the data \"datasets\"?\n",
      "\n",
      "Generated Answer:\n",
      "Prof. Felix Fritzen; Frederik Larsson; Oliver Weeger; Mauricio Fernández\n",
      "\n"
     ]
    },
    {
     "name": "stderr",
     "output_type": "stream",
     "text": [
      "Generating Answers:   8%|▊         | 3/37 [00:28<05:11,  9.15s/it]"
     ]
    },
    {
     "name": "stdout",
     "output_type": "stream",
     "text": [
      "\n",
      "Processing Question 4: Who is working with Researcher \"Ebrahim Norouzi\" in the same group?\n",
      "\n",
      "Generated Answer:\n",
      "Mirza Mohtashim Alam; Dr. Jörg Waitelonis\n",
      "\n"
     ]
    },
    {
     "name": "stderr",
     "output_type": "stream",
     "text": [
      "Generating Answers:  11%|█         | 4/37 [00:34<04:29,  8.15s/it]"
     ]
    },
    {
     "name": "stdout",
     "output_type": "stream",
     "text": [
      "\n",
      "Processing Question 5: who is the email address of \"ParaView\"?\n",
      "\n",
      "Generated Answer:\n",
      "support@kitware.com\n",
      "\n"
     ]
    },
    {
     "name": "stderr",
     "output_type": "stream",
     "text": [
      "Generating Answers:  14%|█▎        | 5/37 [00:40<03:54,  7.33s/it]"
     ]
    },
    {
     "name": "stdout",
     "output_type": "stream",
     "text": [
      "\n",
      "Processing Question 6: What are the affilliations of Volker Hofmann?\n",
      "\n",
      "Generated Answer:\n",
      "Forschungszentrum Jülich\n",
      "\n"
     ]
    },
    {
     "name": "stderr",
     "output_type": "stream",
     "text": [
      "Generating Answers:  16%|█▌        | 6/37 [00:53<04:43,  9.16s/it]"
     ]
    },
    {
     "name": "stdout",
     "output_type": "stream",
     "text": [
      "\n",
      "Processing Question 7: What is \"Molecular Dynamics\" Software? List the programming language, documentation page, repository, and license information.\n",
      "\n",
      "Generated Answer:\n",
      "Visual Molecular Dynamics: programming language (not specified); documentation page https://www.ks.uiuc.edu/Research/vmd/current/ug/; repository (not specified); license Distribution specific, VMD Software License Agreement  \n",
      "High-Throughput Molecular Dynamics: programming language Python; documentation page (not specified); repository https://github.com/Acellera/htmd; license Vendor specific license, HTMD Software Not-for-Profit License Agreement v1.1  \n",
      "The ITAP Molecular Dynamics Program: programming language C; C++; documentation page http://imd.itap.physik.uni-stuttgart.de/userguide/imd.html; repository https://github.com/itapmd; license GNU General Public License v3  \n",
      "Carr Parrinello Molecular Dynamics: programming language Fortran; documentation page https://www.cpmd.org/wordpress/index.php/documentation/; repository (not specified); license CPMD Free License for NPOs  \n",
      "Qbox First-Principles Molecular Dynamics: programming language C++; documentation page http://qboxcode.org/doc/html/; repository http://scherzo.ucdavis.edu/qbox/qbox-public; license GNU General Public License  \n",
      "Large-scale Atomic/Molecular Massively Parallel Simulator: programming language C++; Fortran; documentation page (not specified); repository https://github.com/lammps; license GNU General Public License v2  \n",
      "MD++: programming language C++; documentation page (not specified); repository (not specified); license (not specified)\n",
      "\n"
     ]
    },
    {
     "name": "stderr",
     "output_type": "stream",
     "text": [
      "Generating Answers:  19%|█▉        | 7/37 [01:12<06:08, 12.27s/it]"
     ]
    },
    {
     "name": "stdout",
     "output_type": "stream",
     "text": [
      "\n",
      "Processing Question 8: What are pre- and post-processing tools for MD simulations?\n",
      "\n",
      "Generated Answer:\n",
      "Atomicrex; LAMMPS; Pyiron; Runner; Sphinx; Pizza.py Toolkit; ParaView; OVITO basic; TAMkin; Atomic Simulation Environment; High-Throughput Molecular Dynamics (HTMD)\n",
      "\n"
     ]
    },
    {
     "name": "stderr",
     "output_type": "stream",
     "text": [
      "Generating Answers:  22%|██▏       | 8/37 [01:22<05:36, 11.59s/it]"
     ]
    },
    {
     "name": "stdout",
     "output_type": "stream",
     "text": [
      "\n",
      "Processing Question 9: What are some workflow environments for computational materials science?\n",
      "\n",
      "Generated Answer:\n",
      "Materials Cloud; Pyiron; SimStack; Automated interactive infrastructure and database for computational science; Melting temperature computational workflow; Computational Autonomy for Materials Discovery; Open source package for Material eXplorer; Simulation Environment for Atomistic and Molecular Modeling; MAterials Simulation Toolkit (MAST); Graphical Interface for Materials Simulations; Simmate\n",
      "\n"
     ]
    },
    {
     "name": "stderr",
     "output_type": "stream",
     "text": [
      "Generating Answers:  24%|██▍       | 9/37 [01:32<05:15, 11.28s/it]"
     ]
    },
    {
     "name": "stdout",
     "output_type": "stream",
     "text": [
      "\n",
      "Processing Question 10: How should I cite pyiron?\n",
      "\n",
      "Generated Answer:\n",
      "title = {pyiron: An integrated development environment for computational materials science}; journal = {Computational Materials Science}; volume = {163}; pages = {24 - 36}; year = {2019}; issn = {0927-0256}; doi = {https://doi.org/10.1016/j.commatsci.2018.07.043}; url = {http://www.sciencedirect.com/science/article/pii/S0927025618304786}; author = {Jan Janssen; Sudarsan Surendralal; Yury Lysogorskiy; Mira Todorova; Tilmann Hickel; Ralf Drautz; Jörg Neugebauer}\n",
      "\n"
     ]
    },
    {
     "name": "stderr",
     "output_type": "stream",
     "text": [
      "Generating Answers:  27%|██▋       | 10/37 [01:43<05:01, 11.18s/it]"
     ]
    },
    {
     "name": "stdout",
     "output_type": "stream",
     "text": [
      "\n",
      "Processing Question 11: Where can I find a list of interatomic potentials?\n",
      "\n",
      "Generated Answer:\n",
      "https://www.ctcms.nist.gov/potentials/; https://www.ctcms.nist.gov/potentials/atomman/; http://atomistictools.org/; https://openkim.org/\n",
      "\n"
     ]
    },
    {
     "name": "stderr",
     "output_type": "stream",
     "text": [
      "Generating Answers:  30%|██▉       | 11/37 [01:51<04:21, 10.07s/it]"
     ]
    },
    {
     "name": "stdout",
     "output_type": "stream",
     "text": [
      "\n",
      "Processing Question 12: What are python libraries used for calculating local atomic structural environment?\n",
      "\n",
      "Generated Answer:\n",
      "Pyscal; Atomic Simulation Environment; pymatgen; freud; pyscal_rdf; icet; matminer; Soprano; GPAW; Pyretis; FHI-vibes\n",
      "\n"
     ]
    },
    {
     "name": "stderr",
     "output_type": "stream",
     "text": [
      "Generating Answers:  32%|███▏      | 12/37 [01:58<03:47,  9.10s/it]"
     ]
    },
    {
     "name": "stdout",
     "output_type": "stream",
     "text": [
      "\n",
      "Processing Question 13: What are the electronic lab notebooks available?\n",
      "\n",
      "Generated Answer:\n",
      "eLabFTW; OpenBIS\n",
      "\n"
     ]
    },
    {
     "name": "stderr",
     "output_type": "stream",
     "text": [
      "Generating Answers:  35%|███▌      | 13/37 [02:03<03:11,  7.96s/it]"
     ]
    },
    {
     "name": "stdout",
     "output_type": "stream",
     "text": [
      "\n",
      "Processing Question 14: What are the software for Molecular Dynamics (MD)?\n",
      "\n",
      "Generated Answer:\n",
      "GROMACS; LAMMPS; Visual Molecular Dynamics; Carr Parrinello Molecular Dynamics; MD++; The ITAP Molecular Dynamics Program; High-Throughput Molecular Dynamics; CP2K; Qbox First-Principles Molecular Dynamics; Simulation Environment for Atomistic and Molecular Modeling\n",
      "\n"
     ]
    },
    {
     "name": "stderr",
     "output_type": "stream",
     "text": [
      "Generating Answers:  38%|███▊      | 14/37 [02:11<03:04,  8.04s/it]"
     ]
    },
    {
     "name": "stdout",
     "output_type": "stream",
     "text": [
      "\n",
      "Processing Question 15: What are the ontologies in nanomaterials domain?\n",
      "\n",
      "Generated Answer:\n",
      "MaterialsMine (MM); NanoParticle Ontology for Cancer Nanotechnology Research (NPO); eNanoMapper ontology; MatWerk ontology; Additive Manufacturing Ontology (AMONTOLOGY); Material Science and Engineering Ontology (MSEO); Dislocation Ontology (DISO); Virtual Materials Marketplace (VIMMP) Ontologies; Materials Design Ontology (MDO); Materials And Molecules Basic Ontology (MAMBO); Characterisation Methodology Domain Ontology (CHAMEO); Computational Material Sample Ontology; Chemical Methods Ontology (CHMO)\n",
      "\n"
     ]
    },
    {
     "name": "stderr",
     "output_type": "stream",
     "text": [
      "Generating Answers:  41%|████      | 15/37 [02:21<03:11,  8.69s/it]"
     ]
    },
    {
     "name": "stdout",
     "output_type": "stream",
     "text": [
      "\n",
      "Processing Question 16: What is DAMASK?\n",
      "\n",
      "Generated Answer:\n",
      "Dusseldorf Advanced Material Simulation Kit; unified multi-physics crystal plasticity simulation package; research software; uses method crystal plasticity; has repository https://github.com/eisenforschung/damask; has documentation https://damask.mpie.de/documentation/index.html; has website https://damask.mpie.de/; has contact point damask@mpie.de\n",
      "\n"
     ]
    },
    {
     "name": "stderr",
     "output_type": "stream",
     "text": [
      "Generating Answers:  43%|████▎     | 16/37 [02:29<02:57,  8.47s/it]"
     ]
    },
    {
     "name": "stdout",
     "output_type": "stream",
     "text": [
      "\n",
      "Processing Question 17: What are the data portals for materials science ontologies?\n",
      "\n",
      "Generated Answer:\n",
      "MatPortal; Materials Platform for Data Science; MaterialsProject; The Open Quantum Materials Database; Materials Commons; Open Materials Database; Topological Material Database; The Materials Data Facility (MDF); Inorganic Material Database (AtomWork); Novel Materials Discovery (NOMAD); Materials Cloud; Carolina Materials Database; Organic Materials Database (OMDB); Materials Data Repository; MatNavi: NIMS Materials Database; Computational Materials Repository (CMR); MatDB; HybriD³ materials database; MatDat\n",
      "\n"
     ]
    },
    {
     "name": "stderr",
     "output_type": "stream",
     "text": [
      "Generating Answers:  46%|████▌     | 17/37 [02:40<03:00,  9.02s/it]"
     ]
    },
    {
     "name": "stdout",
     "output_type": "stream",
     "text": [
      "\n",
      "Processing Question 18: What are the instruments for APT?\n",
      "\n",
      "Generated Answer:\n",
      "Procon CT-alpha\n",
      "\n"
     ]
    },
    {
     "name": "stderr",
     "output_type": "stream",
     "text": [
      "Generating Answers:  49%|████▊     | 18/37 [03:01<03:58, 12.55s/it]"
     ]
    },
    {
     "name": "stdout",
     "output_type": "stream",
     "text": [
      "\n",
      "Processing Question 19: In which institution can I find tomography equipment?\n",
      "\n",
      "Generated Answer:\n",
      "Universität Stuttgart; TU Kaiserslautern; Technische Universität Darmstadt; RWTH Aachen University; Universität Paderborn; Technische Universität Clausthal; Saarland University; Karlsruher Institut für Technologie; Albert-Ludwigs-Universität Freiburg; Karlsruhe Institute of Technology; Helmholtz-Gemeinschaft; Technische Universität Darmstadt; TU Kaiserslautern; Institute of Materials Science and Engineering\n",
      "\n"
     ]
    },
    {
     "name": "stderr",
     "output_type": "stream",
     "text": [
      "Generating Answers:  51%|█████▏    | 19/37 [03:14<03:51, 12.87s/it]"
     ]
    },
    {
     "name": "stdout",
     "output_type": "stream",
     "text": [
      "\n",
      "Processing Question 20: What are the educational resources for Ontology?\n",
      "\n",
      "Generated Answer:\n",
      "Computational Material Sample Ontology; MatPortal; Material Science and Engineering Ontology (MSEO); Aditive Manufacturing Ontology (AMONTOLOGY); MatWerk ontology; Materials And Molecules Basic Ontology (MAMBO); MatOnto Ontology (MATONTO); Chemical Methods Ontology (CHMO); Virtual Materials Marketplace (VIMMP) Ontologies; PMD Core Ontology; Ontologies for Materials Science work package \"WP OMS-4.3 MSE Ontology education and training\"\n",
      "\n"
     ]
    },
    {
     "name": "stderr",
     "output_type": "stream",
     "text": [
      "Generating Answers:  54%|█████▍    | 20/37 [03:24<03:25, 12.08s/it]"
     ]
    },
    {
     "name": "stdout",
     "output_type": "stream",
     "text": [
      "\n",
      "Processing Question 21: What is the API of Materials Project?\n",
      "\n",
      "Generated Answer:\n",
      "Materials Project API is a software; Materials Project API has documentation https://api.materialsproject.org/docs\n",
      "\n"
     ]
    },
    {
     "name": "stderr",
     "output_type": "stream",
     "text": [
      "Generating Answers:  57%|█████▋    | 21/37 [03:30<02:42, 10.18s/it]"
     ]
    },
    {
     "name": "stdout",
     "output_type": "stream",
     "text": [
      "\n",
      "Processing Question 22: Which simulation software have a python API?\n",
      "\n",
      "Generated Answer:\n",
      "Atomic Simulation Environment; Atomic Simulation Recipes; PyLammpsMPI; Pyiron; Pymatflow; Multiphysics Object Oriented Simulation Environment; OpenPathSampling; Pyscal; OPTIMADE python tools; DynaPhoPy; pySTEM; pycalphad; GPAW; Simmate; pacemaker; EMMOntoPy; Pyrho; Pyretis; BigDFT; Qe-tools; qmpy; py4vasp; pymatnest; dynasor\n",
      "\n"
     ]
    },
    {
     "name": "stderr",
     "output_type": "stream",
     "text": [
      "Generating Answers:  59%|█████▉    | 22/37 [03:40<02:30, 10.04s/it]"
     ]
    },
    {
     "name": "stdout",
     "output_type": "stream",
     "text": [
      "\n",
      "Processing Question 23: What is the documentation of the \"MatDB Online\"?\n",
      "\n",
      "Generated Answer:\n",
      "https://publications.jrc.ec.europa.eu/repository/handle/JRC75978; http://dx.doi.org/10.2481/dsj.AMDS-003\n",
      "\n"
     ]
    },
    {
     "name": "stderr",
     "output_type": "stream",
     "text": [
      "Generating Answers:  62%|██████▏   | 23/37 [03:47<02:07,  9.08s/it]"
     ]
    },
    {
     "name": "stdout",
     "output_type": "stream",
     "text": [
      "\n",
      "Processing Question 24: What are the types of software licenses?\n",
      "\n",
      "Generated Answer:\n",
      "Proprietary license; Academic license; no license file; OSI-approved BSD 3-clause License; Commercial license; Apache Licence, Version 2.0; No license; GPLv3+; GPL-2.0 license; GPL license version 3; LGPL-2.1 license; LGPL-3.0 license; Propietary commercial license; Academic and commercial license; CPMD Free License for NPOs; Apache license; Academic Software Licence (“ASL”); ASL/ BSD-3; Apache License, Version 2.0; Distribution specific, VMD Software License Agreement; MpCCI License Agreement; Apache; public domain; GPL-3.0 license; GPL 3; GPL 3 License; Qhull license; LBNL BSD; GNU license; Lesser General Public License version 3.0; Distribution specific, VESTA license, free for non-commercial users; MIT/GPL type free to use license; MIT; Mozilla Public License Version 2.0; MIT License; CC-BY-4.0 license; CC-BY\n",
      "\n"
     ]
    },
    {
     "name": "stderr",
     "output_type": "stream",
     "text": [
      "Generating Answers:  65%|██████▍   | 24/37 [04:05<02:32, 11.70s/it]"
     ]
    },
    {
     "name": "stdout",
     "output_type": "stream",
     "text": [
      "\n",
      "Processing Question 25: What are the software used to produce the data in the Materials Cloud repository?\n",
      "\n",
      "Generated Answer:\n",
      "AiiDA; pymatgen; CP2K; LAMMPS; Pyiron; GPAW; GROMACS; Vienna Ab initio Simulation Package; Matminer; Python Materials Genomics (pymatgen); MAterials Simulation Toolkit (MAST); Large-scale Atomic/Molecular Massively Parallel Simulator (LAMMPS); SeeK-path; Computational Autonomy for Materials Discovery; Simulation Environment for Atomistic and Molecular Modeling; NIST Materials Data Curation System; Karlsruhe Data Infrastructure for Materials Science; X-window crystalline structures and densities; Material Optimal Descriptor Network; Graphical Interface for Materials Simulations; Dusseldorf Advanced Material Simulation Kit; Cluster Expansion in Atomic Simulation Environment; BIOVIA Materials Studio\n",
      "\n"
     ]
    },
    {
     "name": "stderr",
     "output_type": "stream",
     "text": [
      "Generating Answers:  68%|██████▊   | 25/37 [04:18<02:27, 12.30s/it]"
     ]
    },
    {
     "name": "stdout",
     "output_type": "stream",
     "text": [
      "\n",
      "Processing Question 26: What are datasets produced by the BAM organization?\n",
      "\n",
      "Generated Answer:\n",
      "BAM Dataset: Creating FDO for MatWerk; BAM reference data: results of ASTM E139 -11 creep tests on a reference material of Nimonic 75 nickel-base alloy\n",
      "\n"
     ]
    },
    {
     "name": "stderr",
     "output_type": "stream",
     "text": [
      "Generating Answers:  70%|███████   | 26/37 [04:26<02:01, 11.06s/it]"
     ]
    },
    {
     "name": "stdout",
     "output_type": "stream",
     "text": [
      "\n",
      "Processing Question 27: What are some available datasets of mechanical properties of steels?\n",
      "\n",
      "Generated Answer:\n",
      "Full dataset of several mechanical tests on an S355 steel sheet as reference data for digital representations; Metallic Material Database (Kinzoku); MatDat; Brinell-Hardness (HBW 2.5/62.5) of Al-alloy EN AW-2618A after different aging times and temperatures; BAM reference data: results of ASTM E139 -11 creep tests on a reference material of Nimonic 75 nickel-base alloy; NIMS Materials Database (MatNavi); MaterialsProject; Carolina Materials Database; The Materials Data Facility (MDF); Material Properties Open Database (MPOD); Topological Material Database; CCT Diagram Database (CCTD); Elastic Constant Demo Data; ThermoML\n",
      "\n"
     ]
    },
    {
     "name": "stderr",
     "output_type": "stream",
     "text": [
      "Generating Answers:  73%|███████▎  | 27/37 [04:39<01:56, 11.68s/it]"
     ]
    },
    {
     "name": "stdout",
     "output_type": "stream",
     "text": [
      "\n",
      "Processing Question 28: What are datasets related to \"Transmission electron microscopy\"?\n",
      "\n",
      "Generated Answer:\n",
      "Datasets for the analysis of dislocations at grain boundaries and during vein formation in cyclically deformed Ni micropillars; Radii of S-phase Al2CuMg in Al-alloy EN AW-2618A after different aging times at 190°C; Aluminum Elastic Modulus; Elastic Constant Demo Data\n",
      "\n"
     ]
    },
    {
     "name": "stderr",
     "output_type": "stream",
     "text": [
      "Generating Answers:  76%|███████▌  | 28/37 [04:49<01:38, 10.96s/it]"
     ]
    },
    {
     "name": "stdout",
     "output_type": "stream",
     "text": [
      "\n",
      "Processing Question 29: What is the license of the dataset \"Elastic Constant Demo Data\"?\n",
      "\n",
      "Generated Answer:\n",
      "BSD 3-Clause License\n",
      "\n"
     ]
    },
    {
     "name": "stderr",
     "output_type": "stream",
     "text": [
      "Generating Answers:  78%|███████▊  | 29/37 [04:55<01:15,  9.50s/it]"
     ]
    },
    {
     "name": "stdout",
     "output_type": "stream",
     "text": [
      "\n",
      "Processing Question 30: What is the repository for \"BAM reference data\"?\n",
      "\n",
      "Generated Answer:\n",
      "https://doi.org/10.5281/zenodo.5106606\n",
      "\n"
     ]
    },
    {
     "name": "stderr",
     "output_type": "stream",
     "text": [
      "Generating Answers:  81%|████████  | 30/37 [05:06<01:10, 10.09s/it]"
     ]
    },
    {
     "name": "stdout",
     "output_type": "stream",
     "text": [
      "\n",
      "Processing Question 31: What are the different data formats in the \"BAM reference data\"?\n",
      "\n",
      "Generated Answer:\n",
      "csv; pdf; json\n",
      "\n"
     ]
    },
    {
     "name": "stderr",
     "output_type": "stream",
     "text": [
      "Generating Answers:  84%|████████▍ | 31/37 [05:15<00:57,  9.61s/it]"
     ]
    },
    {
     "name": "stdout",
     "output_type": "stream",
     "text": [
      "\n",
      "Processing Question 32: What is the software version of \"pacemaker\"?\n",
      "\n",
      "Generated Answer:\n",
      "0.2.7\n",
      "\n"
     ]
    },
    {
     "name": "stderr",
     "output_type": "stream",
     "text": [
      "Generating Answers:  86%|████████▋ | 32/37 [05:25<00:49,  9.90s/it]"
     ]
    },
    {
     "name": "stdout",
     "output_type": "stream",
     "text": [
      "\n",
      "Processing Question 33: What is the field of research \"BAM reference data\"?\n",
      "\n",
      "Generated Answer:\n",
      "Answer:\n",
      "results of ASTM E139 -11 creep tests on a reference material of Nimonic 75 nickel-base alloy; compilation of test results; test data; additional information on material; follows standard ASTM E139 -11; discipline high temperature mechanical behavior; has license Creative Commons Attribution 4.0 International; has repository https://doi.org/10.5281/zenodo.5106606; has creator Prof. Birgit Skrotzki; has creator Sina Schriever; has description \"The creep behavior of a certified reference material was determined according to ASTM E139-11 using calibrated equipment of an accredited testing laboratory.\"\n",
      "\n"
     ]
    },
    {
     "name": "stderr",
     "output_type": "stream",
     "text": [
      "Generating Answers:  89%|████████▉ | 33/37 [05:37<00:41, 10.33s/it]"
     ]
    },
    {
     "name": "stdout",
     "output_type": "stream",
     "text": [
      "\n",
      "Processing Question 34: What is the description of the \"BAM reference data\"?\n",
      "\n",
      "Generated Answer:\n",
      "Answer:\n",
      "results of ASTM E139 -11 creep tests on a reference material of Nimonic 75 nickel-base alloy; compilation of test results; test data; additional information on material; follows standard ASTM E139 -11; has description \"The creep behavior of a certified reference material was determined according to ASTM E139-11 using calibrated equipment of an accredited testing laboratory.\"; has datePublished 7/15/2021; has license Creative Commons Attribution 4.0 International; has repository https://doi.org/10.5281/zenodo.5106606; has file extensions pdf, csv; has creators Prof. Birgit Skrotzki, Sina Schriever; has discipline high temperature mechanical behavior; is about material Nimonic 75 nickel-base alloy; includes specimens; has object type equipment\n",
      "\n"
     ]
    },
    {
     "name": "stderr",
     "output_type": "stream",
     "text": [
      "Generating Answers:  92%|█████████▏| 34/37 [05:50<00:33, 11.22s/it]"
     ]
    },
    {
     "name": "stdout",
     "output_type": "stream",
     "text": [
      "\n",
      "Processing Question 35: What are the datasets produced in 2022?\n",
      "\n",
      "Generated Answer:\n",
      "Metadata schemes for materials science data; Full dataset of several mechanical tests on an S355 steel sheet as reference data for digital representations; Dislocation Ontology (DISO)\n",
      "\n"
     ]
    },
    {
     "name": "stderr",
     "output_type": "stream",
     "text": [
      "Generating Answers:  95%|█████████▍| 35/37 [05:57<00:19,  9.97s/it]"
     ]
    },
    {
     "name": "stdout",
     "output_type": "stream",
     "text": [
      "\n",
      "Processing Question 36: Who is the creators of the \"BAM reference data\"?\n",
      "\n",
      "Generated Answer:\n",
      "Prof. Birgit Skrotzki; Sina Schriever\n",
      "\n"
     ]
    },
    {
     "name": "stderr",
     "output_type": "stream",
     "text": [
      "Generating Answers:  97%|█████████▋| 36/37 [06:03<00:08,  8.73s/it]"
     ]
    },
    {
     "name": "stdout",
     "output_type": "stream",
     "text": [
      "\n",
      "Processing Question 37: What are the datasets published by \"BAM\"?\n",
      "\n",
      "Generated Answer:\n",
      "BAM Dataset: Creating FDO for MatWerk; BAM reference data: results of ASTM E139 -11 creep tests on a reference material of Nimonic 75 nickel-base alloy; Aluminum Elastic Modulus; Elastic Constant Demo Data\n",
      "\n"
     ]
    },
    {
     "name": "stderr",
     "output_type": "stream",
     "text": [
      "Generating Answers: 100%|██████████| 37/37 [06:13<00:00, 10.09s/it]\n"
     ]
    },
    {
     "name": "stdout",
     "output_type": "stream",
     "text": [
      "\n",
      "[✓] Saved: ../data/MSE-KG/BGEM3/Predicted_Answers_Contexts_by_BGE_M3_Decom5_40.xlsx\n"
     ]
    },
    {
     "name": "stderr",
     "output_type": "stream",
     "text": [
      "Generating Answers:   0%|          | 0/37 [00:00<?, ?it/s]"
     ]
    },
    {
     "name": "stdout",
     "output_type": "stream",
     "text": [
      "\n",
      "Processing Question 1: Who is working in the Computational Materials Science field?\n",
      "\n",
      "Generated Answer:\n",
      "Prof. Stefan Diebels; Dr Sarath Menon; Prof. Dr. Karsten Durst; Christian Dorn; Prof. Dr. Jörg Neugebauer; PD Dr. habil. Thomas Hammerschmidt; PD Dr. Franz Roters; Dr.-Ing Abril Azocar Guzman; Prof. Dr.-Ing. Stephan Wulfinghoff; Jan Janssen; Sudarsan Surendralal; Yury Lysogorskiy; Mira Todorova; Tilmann Hickel; Ralf Drautz\n",
      "\n"
     ]
    },
    {
     "name": "stderr",
     "output_type": "stream",
     "text": [
      "Generating Answers:   3%|▎         | 1/37 [00:12<07:41, 12.82s/it]"
     ]
    },
    {
     "name": "stdout",
     "output_type": "stream",
     "text": [
      "\n",
      "Processing Question 2: What are the research projects associated to EMMO?\n",
      "\n",
      "Generated Answer:\n",
      "VIMMP (2018-2021); NanoMECommons (2021-2025); EMMC-CSA (2016-2019); OpenModel (2021-2025); ReaxPro (2019-2023); MarketPlace (2018-2022); SimDOME (2019-2023); OYSTER (2017-2021); OntoCommons (2020-2023); OntoTrans (2020-2024)\n",
      "\n"
     ]
    },
    {
     "name": "stderr",
     "output_type": "stream",
     "text": [
      "Generating Answers:   5%|▌         | 2/37 [00:24<07:12, 12.37s/it]"
     ]
    },
    {
     "name": "stdout",
     "output_type": "stream",
     "text": [
      "\n",
      "Processing Question 3: Who are the contributors of the data \"datasets\"?\n",
      "\n",
      "Generated Answer:\n",
      "Prof. Felix Fritzen; Frederik Larsson; Oliver Weeger; Mauricio Fernández\n",
      "\n"
     ]
    },
    {
     "name": "stderr",
     "output_type": "stream",
     "text": [
      "Generating Answers:   8%|▊         | 3/37 [00:30<05:13,  9.21s/it]"
     ]
    },
    {
     "name": "stdout",
     "output_type": "stream",
     "text": [
      "\n",
      "Processing Question 4: Who is working with Researcher \"Ebrahim Norouzi\" in the same group?\n",
      "\n",
      "Generated Answer:\n",
      "Mirza Mohtashim Alam; Dr. Jörg Waitelonis\n",
      "\n"
     ]
    },
    {
     "name": "stderr",
     "output_type": "stream",
     "text": [
      "Generating Answers:  11%|█         | 4/37 [00:36<04:24,  8.01s/it]"
     ]
    },
    {
     "name": "stdout",
     "output_type": "stream",
     "text": [
      "\n",
      "Processing Question 5: who is the email address of \"ParaView\"?\n",
      "\n",
      "Generated Answer:\n",
      "support@kitware.com\n",
      "\n"
     ]
    },
    {
     "name": "stderr",
     "output_type": "stream",
     "text": [
      "Generating Answers:  14%|█▎        | 5/37 [00:42<03:56,  7.39s/it]"
     ]
    },
    {
     "name": "stdout",
     "output_type": "stream",
     "text": [
      "\n",
      "Processing Question 6: What are the affilliations of Volker Hofmann?\n",
      "\n",
      "Generated Answer:\n",
      "Forschungszentrum Jülich\n",
      "\n"
     ]
    },
    {
     "name": "stderr",
     "output_type": "stream",
     "text": [
      "Generating Answers:  16%|█▌        | 6/37 [00:50<03:48,  7.39s/it]"
     ]
    },
    {
     "name": "stdout",
     "output_type": "stream",
     "text": [
      "\n",
      "Processing Question 7: What is \"Molecular Dynamics\" Software? List the programming language, documentation page, repository, and license information.\n",
      "\n",
      "Generated Answer:\n",
      "Visual Molecular Dynamics: programming language - (No Answer); documentation page - https://www.ks.uiuc.edu/Research/vmd/current/ug/; repository - (No Answer); license - Distribution specific, VMD Software License Agreement  \n",
      "High-Throughput Molecular Dynamics: programming language - Python; documentation page - (No Answer); repository - https://github.com/Acellera/htmd; license - Vendor specific license, HTMD Software Not-for-Profit License Agreement v1.1  \n",
      "The ITAP Molecular Dynamics Program: programming language - C; C++; documentation page - http://imd.itap.physik.uni-stuttgart.de/userguide/imd.html; repository - https://github.com/itapmd; license - GNU General Public License v3  \n",
      "Carr Parrinello Molecular Dynamics: programming language - Fortran; documentation page - https://www.cpmd.org/wordpress/index.php/documentation/; repository - (No Answer); license - CPMD Free License for NPOs  \n",
      "Qbox First-Principles Molecular Dynamics: programming language - C++; documentation page - http://qboxcode.org/doc/html/; repository - http://scherzo.ucdavis.edu/qbox/qbox-public; license - GNU General Public License  \n",
      "Large-scale Atomic/Molecular Massively Parallel Simulator: programming language - C++; Fortran; documentation page - (No Answer); repository - https://github.com/lammps; license - GNU General Public License v2  \n",
      "MD++: programming language - C++; documentation page - (No Answer); repository - (No Answer); license - (No Answer)\n",
      "\n"
     ]
    },
    {
     "name": "stderr",
     "output_type": "stream",
     "text": [
      "Generating Answers:  19%|█▉        | 7/37 [01:10<05:45, 11.52s/it]"
     ]
    },
    {
     "name": "stdout",
     "output_type": "stream",
     "text": [
      "\n",
      "Processing Question 8: What are pre- and post-processing tools for MD simulations?\n",
      "\n",
      "Generated Answer:\n",
      "Answer:\n",
      "Atomicrex; LAMMPS; Pyiron; Runner; Sphinx; Pizza.py Toolkit; OVITO basic; TAMkin; ParaView; Atomic Simulation Environment; High-Throughput Molecular Dynamics; Visual Molecular Dynamics; ImageJ; ImageJ2; Fiji; MDTraj; Datamol; Paraprobe-toolbox\n",
      "\n"
     ]
    },
    {
     "name": "stderr",
     "output_type": "stream",
     "text": [
      "Generating Answers:  22%|██▏       | 8/37 [01:21<05:29, 11.35s/it]"
     ]
    },
    {
     "name": "stdout",
     "output_type": "stream",
     "text": [
      "\n",
      "Processing Question 9: What are some workflow environments for computational materials science?\n",
      "\n",
      "Generated Answer:\n",
      "Materials Cloud; Pyiron; SimStack; Automated interactive infrastructure and database for computational science; Melting temperature computational workflow; Workshop: Simulation workflows in materials modelling; Workshop: Workflows for atomistic simulations\n",
      "\n"
     ]
    },
    {
     "name": "stderr",
     "output_type": "stream",
     "text": [
      "Generating Answers:  24%|██▍       | 9/37 [01:28<04:40, 10.03s/it]"
     ]
    },
    {
     "name": "stdout",
     "output_type": "stream",
     "text": [
      "\n",
      "Processing Question 10: How should I cite pyiron?\n",
      "\n",
      "Generated Answer:\n",
      "title = {pyiron: An integrated development environment for computational materials science}; journal = {Computational Materials Science}; volume = {163}; pages = {24 - 36}; year = {2019}; issn = {0927-0256}; doi = {https://doi.org/10.1016/j.commatsci.2018.07.043}; url = {http://www.sciencedirect.com/science/article/pii/S0927025618304786}; author = {Jan Janssen and Sudarsan Surendralal and Yury Lysogorskiy and Mira Todorova and Tilmann Hickel and Ralf Drautz and Jörg Neugebauer}\n",
      "\n"
     ]
    },
    {
     "name": "stderr",
     "output_type": "stream",
     "text": [
      "Generating Answers:  27%|██▋       | 10/37 [01:42<05:06, 11.36s/it]"
     ]
    },
    {
     "name": "stdout",
     "output_type": "stream",
     "text": [
      "\n",
      "Processing Question 11: Where can I find a list of interatomic potentials?\n",
      "\n",
      "Generated Answer:\n",
      "https://www.ctcms.nist.gov/potentials/; http://atomistictools.org/; https://openkim.org/\n",
      "\n"
     ]
    },
    {
     "name": "stderr",
     "output_type": "stream",
     "text": [
      "Generating Answers:  30%|██▉       | 11/37 [01:51<04:35, 10.60s/it]"
     ]
    },
    {
     "name": "stdout",
     "output_type": "stream",
     "text": [
      "\n",
      "Processing Question 12: What are python libraries used for calculating local atomic structural environment?\n",
      "\n",
      "Generated Answer:\n",
      "pyscal; Atomic Simulation Environment; freud; pyscal_rdf; CompositionSpace; icet; dynasor; Pyretis; FitSNAP; Soprano; WulffPack; FHI-vibes; GPAW\n",
      "\n"
     ]
    },
    {
     "name": "stderr",
     "output_type": "stream",
     "text": [
      "Generating Answers:  32%|███▏      | 12/37 [02:00<04:09,  9.99s/it]"
     ]
    },
    {
     "name": "stdout",
     "output_type": "stream",
     "text": [
      "\n",
      "Processing Question 13: What are the electronic lab notebooks available?\n",
      "\n",
      "Generated Answer:\n",
      "eLabFTW; OpenBIS\n",
      "\n"
     ]
    },
    {
     "name": "stderr",
     "output_type": "stream",
     "text": [
      "Generating Answers:  35%|███▌      | 13/37 [02:05<03:28,  8.70s/it]"
     ]
    },
    {
     "name": "stdout",
     "output_type": "stream",
     "text": [
      "\n",
      "Processing Question 14: What are the software for Molecular Dynamics (MD)?\n",
      "\n",
      "Generated Answer:\n",
      "GROMACS; LAMMPS; Visual Molecular Dynamics; Carr Parrinello Molecular Dynamics; MD++; The ITAP Molecular Dynamics Program; CP2K; High-Throughput Molecular Dynamics; Qbox First-Principles Molecular Dynamics; Simulation Environment for Atomistic and Molecular Modeling; Vcsgc-lammps; OpenMX; Vienna Ab initio Simulation Package; Atomic Simulation Environment; Dusseldorf Advanced Material Simulation Kit; GPAW; atomate; CascadesDB; AML; Neper; pymatnest; FitSNAP; MatD3; Cluster Expansion in Atomic Simulation Environment; TURBOMOLE; atomicrex; Open Model; CompositionSpace; MTEX; mendeleev; Calphy; Pyscal; pyscal_rdf; Gmsh; X-window crystalline structures and densities; Material Optimal Descriptor Network; Computational Autonomy for Materials Discovery; density of Montréal; Elastic Constant Demo; Graphical Interface for Materials Simulations; SEAMM; CAMD; Novel Materials Discovery (NOMAD)\n",
      "\n"
     ]
    },
    {
     "name": "stderr",
     "output_type": "stream",
     "text": [
      "Generating Answers:  38%|███▊      | 14/37 [02:20<04:03, 10.59s/it]"
     ]
    },
    {
     "name": "stdout",
     "output_type": "stream",
     "text": [
      "\n",
      "Processing Question 15: What are the ontologies in nanomaterials domain?\n",
      "\n",
      "Generated Answer:\n",
      "MaterialsMine (MM); NanoParticle Ontology for Cancer Nanotechnology Research (NPO); eNanoMapper ontology; MatWerk ontology; Materials And Molecules Basic Ontology (MAMBO); Materials Design Ontology (MDO); Material Science and Engineering Ontology (MSEO); Dislocation Ontology (DISO); Computational Material Sample Ontology; Characterisation Methodology Domain Ontology (CHAMEO); Chemical Methods Ontology (CHMO); Virtual Materials Marketplace (VIMMP) Ontologies; Aditive Manufacturing Ontology (AMONTOLOGY)\n",
      "\n"
     ]
    },
    {
     "name": "stderr",
     "output_type": "stream",
     "text": [
      "Generating Answers:  41%|████      | 15/37 [02:31<03:52, 10.55s/it]"
     ]
    },
    {
     "name": "stdout",
     "output_type": "stream",
     "text": [
      "\n",
      "Processing Question 16: What is DAMASK?\n",
      "\n",
      "Generated Answer:\n",
      "Dusseldorf Advanced Material Simulation Kit; unified multi-physics crystal plasticity simulation package; research software; handles multi-physics problems; uses crystal plasticity method; repository https://github.com/eisenforschung/damask; documentation https://damask.mpie.de/documentation/index.html; website https://damask.mpie.de/; contact point damask@mpie.de\n",
      "\n"
     ]
    },
    {
     "name": "stderr",
     "output_type": "stream",
     "text": [
      "Generating Answers:  43%|████▎     | 16/37 [02:43<03:50, 10.97s/it]"
     ]
    },
    {
     "name": "stdout",
     "output_type": "stream",
     "text": [
      "\n",
      "Processing Question 17: What are the data portals for materials science ontologies?\n",
      "\n",
      "Generated Answer:\n",
      "MatPortal; Materials Platform for Data Science; MaterialsProject; The Open Quantum Materials Database; Materials Commons; Open Materials Database; Topological Material Database; The Materials Data Facility (MDF); Inorganic Material Database (AtomWork); Novel Materials Discovery (NOMAD); Materials Cloud; Carolina Materials Database; Organic Materials Database (OMDB); Materials Data Repository; Atomistica; HybriD³ materials database; MatNavi: NIMS Materials Database; Computational Materials Repository (CMR); MatDB; Atomistictools; MatDat; Thermophysical Property Database; Citrination\n",
      "\n"
     ]
    },
    {
     "name": "stderr",
     "output_type": "stream",
     "text": [
      "Generating Answers:  46%|████▌     | 17/37 [02:55<03:44, 11.22s/it]"
     ]
    },
    {
     "name": "stdout",
     "output_type": "stream",
     "text": [
      "\n",
      "Processing Question 18: What are the instruments for APT?\n",
      "\n",
      "Generated Answer:\n",
      "Procon CT-alpha; https://er-c.org/index.php/facilities-2/tfs-spectra-300/\n",
      "\n"
     ]
    },
    {
     "name": "stderr",
     "output_type": "stream",
     "text": [
      "Generating Answers:  49%|████▊     | 18/37 [03:01<03:06,  9.82s/it]"
     ]
    },
    {
     "name": "stdout",
     "output_type": "stream",
     "text": [
      "\n",
      "Processing Question 19: In which institution can I find tomography equipment?\n",
      "\n",
      "Generated Answer:\n",
      "Universität Stuttgart; TU Kaiserslautern; Technische Universität Darmstadt; RWTH Aachen University; Universität Paderborn; Technische Universität Clausthal; Saarland University; Karlsruher Institut für Technologie; Albert-Ludwigs-Universität Freiburg; Institute of Materials Science; Institute of Applied Mechanics; Karlsruhe Institute of Technology; Federal Institute for Materials Research and Testing Bundesanstalt für Materialforschung und -prüfung; Leibniz Institute for Materials Engineering; Institute of Materials Science and Engineering; Ion Beam Center\n",
      "\n"
     ]
    },
    {
     "name": "stderr",
     "output_type": "stream",
     "text": [
      "Generating Answers:  51%|█████▏    | 19/37 [03:16<03:25, 11.40s/it]"
     ]
    },
    {
     "name": "stdout",
     "output_type": "stream",
     "text": [
      "\n",
      "Processing Question 20: What are the educational resources for Ontology?\n",
      "\n",
      "Generated Answer:\n",
      "Computational Material Sample Ontology; MatPortal; Material Science and Engineering Ontology (MSEO); Aditive Manufacturing Ontology (AMONTOLOGY); MatWerk ontology; MatOnto Ontology (MATONTO); Virtual Materials Marketplace (VIMMP) Ontologies; Chemical Methods Ontology (CHMO); Materials And Molecules Basic Ontology (MAMBO); Ontologies for Materials Science; PMD Core Ontology\n",
      "\n"
     ]
    },
    {
     "name": "stderr",
     "output_type": "stream",
     "text": [
      "Generating Answers:  54%|█████▍    | 20/37 [03:25<03:02, 10.75s/it]"
     ]
    },
    {
     "name": "stdout",
     "output_type": "stream",
     "text": [
      "\n",
      "Processing Question 21: What is the API of Materials Project?\n",
      "\n",
      "Generated Answer:\n",
      "Materials Project API is a software; Materials Project API has documentation https://api.materialsproject.org/docs\n",
      "\n"
     ]
    },
    {
     "name": "stderr",
     "output_type": "stream",
     "text": [
      "Generating Answers:  57%|█████▋    | 21/37 [03:32<02:32,  9.53s/it]"
     ]
    },
    {
     "name": "stdout",
     "output_type": "stream",
     "text": [
      "\n",
      "Processing Question 22: Which simulation software have a python API?\n",
      "\n",
      "Generated Answer:\n",
      "Atomic Simulation Environment; Atomic Simulation Recipes; PyLammpsMPI; Pyiron; Pymatflow; Python Laboratory for Finite Element Analysis; FitSNAP; Dusseldorf Advanced Material Simulation Kit; OPTIMADE python tools; Multiphysics Object Oriented Simulation Environment; DynaPhoPy; OpenPathSampling; Pyscal; EMMOntoPy; pacemaker; n2p2; pycalphad; TAMkin; phonopy\n",
      "\n"
     ]
    },
    {
     "name": "stderr",
     "output_type": "stream",
     "text": [
      "Generating Answers:  59%|█████▉    | 22/37 [03:42<02:22,  9.51s/it]"
     ]
    },
    {
     "name": "stdout",
     "output_type": "stream",
     "text": [
      "\n",
      "Processing Question 23: What is the documentation of the \"MatDB Online\"?\n",
      "\n",
      "Generated Answer:\n",
      "https://publications.jrc.ec.europa.eu/repository/handle/JRC75978; http://dx.doi.org/10.2481/dsj.AMDS-003\n",
      "\n"
     ]
    },
    {
     "name": "stderr",
     "output_type": "stream",
     "text": [
      "Generating Answers:  62%|██████▏   | 23/37 [03:51<02:12,  9.44s/it]"
     ]
    },
    {
     "name": "stdout",
     "output_type": "stream",
     "text": [
      "\n",
      "Processing Question 24: What are the types of software licenses?\n",
      "\n",
      "Generated Answer:\n",
      "Proprietary license; Academic license; no license file; OSI-approved BSD 3-clause License; Commercial license; Apache Licence, Version 2.0; No license; GPLv3+; GPL-2.0 license; GPL license version 3; LGPL-2.1 license; LGPL-3.0 license; Propietary commercial license; Academic and commercial license; CPMD Free License for NPOs; Apache license; Academic Software Licence (“ASL”); ASL/ BSD-3; Apache License, Version 2.0; Distribution specific, VMD Software License Agreement; MpCCI License Agreement; Apache; public domain; Matminer license (BSD style); partly propietary; Apache-2.0 license; GPL-3.0 license; GPL 3; GPL 3 License; Qhull license; LBNL BSD; GNU license; Lesser General Public License version 3.0; Vendor specific license; MIT/GPL; MIT; Mozilla Public License Version 2.0; GNU General Public License v3; GNU General Public License; GNU Lesser General Public License; BSD; CC-BY-4.0 license; CC-BY; MIT License; Creative Commons Attribution 4.0 International Public License\n",
      "\n"
     ]
    },
    {
     "name": "stderr",
     "output_type": "stream",
     "text": [
      "Generating Answers:  65%|██████▍   | 24/37 [04:07<02:27, 11.35s/it]"
     ]
    },
    {
     "name": "stdout",
     "output_type": "stream",
     "text": [
      "\n",
      "Processing Question 25: What are the software used to produce the data in the Materials Cloud repository?\n",
      "\n",
      "Generated Answer:\n",
      "AiiDA; pymatgen; CP2K; LAMMPS; Pyiron; OpenMX; GPAW; WIEN2k; GROMACS; VASP; Matminer; Atomic Simulation Environment; Dusseldorf Advanced Material Simulation Kit; Large-scale Atomic/Molecular Massively Parallel Simulator; Simulation Environment for Atomistic and Molecular Modeling; Computational Autonomy for Materials Discovery; Virtual materials Marketplace; MAterials Simulation Toolkit (MAST); Material Optimal Descriptor Network; Graphical Interface for Materials Simulations; NIST Materials Data Curation System; Karlsruhe Data Infrastructure for Materials Science; MedeA; BIOVIA Materials Studio; X-window crystalline structures and densities; Cluster Expansion in Atomic Simulation Environment\n",
      "\n"
     ]
    },
    {
     "name": "stderr",
     "output_type": "stream",
     "text": [
      "Generating Answers:  68%|██████▊   | 25/37 [04:20<02:24, 12.07s/it]"
     ]
    },
    {
     "name": "stdout",
     "output_type": "stream",
     "text": [
      "\n",
      "Processing Question 26: What are datasets produced by the BAM organization?\n",
      "\n",
      "Generated Answer:\n",
      "BAM Dataset: Creating FDO for MatWerk; BAM reference data: results of ASTM E139 -11 creep tests on a reference material of Nimonic 75 nickel-base alloy; Aluminum Elastic Modulus\n",
      "\n"
     ]
    },
    {
     "name": "stderr",
     "output_type": "stream",
     "text": [
      "Generating Answers:  70%|███████   | 26/37 [04:28<01:56, 10.60s/it]"
     ]
    },
    {
     "name": "stdout",
     "output_type": "stream",
     "text": [
      "\n",
      "Processing Question 27: What are some available datasets of mechanical properties of steels?\n",
      "\n",
      "Generated Answer:\n",
      "Full dataset of several mechanical tests on an S355 steel sheet as reference data for digital representations; Metallic Material Database (Kinzoku); MatDat; BAM reference data: results of ASTM E139 -11 creep tests on a reference material of Nimonic 75 nickel-base alloy; Elastic Constant Demo Data; NIST Materials Data Curation System; MatNavi: NIMS Materials Database; MaterialsProject; Carolina Materials Database; The Materials Data Facility (MDF); Material Properties Open Database (MPOD); Topological Material Database; Open Materials Database; The Open Quantum Materials Database; ThermoML; HybriD³ materials database; Diffusion Database (Kakusan)\n",
      "\n"
     ]
    },
    {
     "name": "stderr",
     "output_type": "stream",
     "text": [
      "Generating Answers:  73%|███████▎  | 27/37 [04:39<01:47, 10.71s/it]"
     ]
    },
    {
     "name": "stdout",
     "output_type": "stream",
     "text": [
      "\n",
      "Processing Question 28: What are datasets related to \"Transmission electron microscopy\"?\n",
      "\n",
      "Generated Answer:\n",
      "Datasets for the analysis of dislocations at grain boundaries and during vein formation in cyclically deformed Ni micropillars; Radii of S-phase Al2CuMg in Al-alloy EN AW-2618A after different aging times at 190°C\n",
      "\n"
     ]
    },
    {
     "name": "stderr",
     "output_type": "stream",
     "text": [
      "Generating Answers:  76%|███████▌  | 28/37 [04:46<01:27,  9.67s/it]"
     ]
    },
    {
     "name": "stdout",
     "output_type": "stream",
     "text": [
      "\n",
      "Processing Question 29: What is the license of the dataset \"Elastic Constant Demo Data\"?\n",
      "\n",
      "Generated Answer:\n",
      "BSD 3-Clause License\n",
      "\n"
     ]
    },
    {
     "name": "stderr",
     "output_type": "stream",
     "text": [
      "Generating Answers:  78%|███████▊  | 29/37 [04:52<01:09,  8.65s/it]"
     ]
    },
    {
     "name": "stdout",
     "output_type": "stream",
     "text": [
      "\n",
      "Processing Question 30: What is the repository for \"BAM reference data\"?\n",
      "\n",
      "Generated Answer:\n",
      "https://doi.org/10.5281/zenodo.5106606\n",
      "\n"
     ]
    },
    {
     "name": "stderr",
     "output_type": "stream",
     "text": [
      "Generating Answers:  81%|████████  | 30/37 [04:59<00:56,  8.07s/it]"
     ]
    },
    {
     "name": "stdout",
     "output_type": "stream",
     "text": [
      "\n",
      "Processing Question 31: What are the different data formats in the \"BAM reference data\"?\n",
      "\n",
      "Generated Answer:\n",
      "csv; pdf; json\n",
      "\n"
     ]
    },
    {
     "name": "stderr",
     "output_type": "stream",
     "text": [
      "Generating Answers:  84%|████████▍ | 31/37 [05:07<00:48,  8.05s/it]"
     ]
    },
    {
     "name": "stdout",
     "output_type": "stream",
     "text": [
      "\n",
      "Processing Question 32: What is the software version of \"pacemaker\"?\n",
      "\n",
      "Generated Answer:\n",
      "0.2.7\n",
      "\n"
     ]
    },
    {
     "name": "stderr",
     "output_type": "stream",
     "text": [
      "Generating Answers:  86%|████████▋ | 32/37 [05:13<00:36,  7.38s/it]"
     ]
    },
    {
     "name": "stdout",
     "output_type": "stream",
     "text": [
      "\n",
      "Processing Question 33: What is the field of research \"BAM reference data\"?\n",
      "\n",
      "Generated Answer:\n",
      "Answer:\n",
      "results of ASTM E139 -11 creep tests on a reference material of Nimonic 75 nickel-base alloy; compilation of test results; test data; additional information on material; follows standard ASTM E139 -11; has discipline high temperature mechanical behavior; has description \"The creep behavior of a certified reference material was determined according to ASTM E139-11 using calibrated equipment of an accredited testing laboratory.\"; has creator Prof. Birgit Skrotzki; has creator Sina Schriever; has license Creative Commons Attribution 4.0 International; has datePublished 7/15/2021; has repository https://doi.org/10.5281/zenodo.5106606; has file extension pdf; has file extension csv; is about material Nimonic 75 nickel-base alloy; has object type equipment\n",
      "\n"
     ]
    },
    {
     "name": "stderr",
     "output_type": "stream",
     "text": [
      "Generating Answers:  89%|████████▉ | 33/37 [05:24<00:34,  8.73s/it]"
     ]
    },
    {
     "name": "stdout",
     "output_type": "stream",
     "text": [
      "\n",
      "Processing Question 34: What is the description of the \"BAM reference data\"?\n",
      "\n",
      "Generated Answer:\n",
      "The creep behavior of a certified reference material was determined according to ASTM E139-11 using calibrated equipment of an accredited testing laboratory; results of ASTM E139 -11 creep tests on a reference material of Nimonic 75 nickel-base alloy; compilation of test results; test data; additional information on material; about material Nimonic 75 nickel-base alloy; follows standard ASTM E139 -11; has discipline high temperature mechanical behavior; has creator Prof. Birgit Skrotzki; has creator Sina Schriever; has datePublished 7/15/2021; has license Creative Commons Attribution 4.0 International; has repository https://doi.org/10.5281/zenodo.5106606; has file extension pdf; has file extension csv; has object type equipment\n",
      "\n"
     ]
    },
    {
     "name": "stderr",
     "output_type": "stream",
     "text": [
      "Generating Answers:  92%|█████████▏| 34/37 [05:37<00:29,  9.73s/it]"
     ]
    },
    {
     "name": "stdout",
     "output_type": "stream",
     "text": [
      "\n",
      "Processing Question 35: What are the datasets produced in 2022?\n",
      "\n",
      "Generated Answer:\n",
      "Metadata schemes for materials science data; Full dataset of several mechanical tests on an S355 steel sheet as reference data for digital representations; Dislocation Ontology (DISO); MaterialsMine (MM)\n",
      "\n"
     ]
    },
    {
     "name": "stderr",
     "output_type": "stream",
     "text": [
      "Generating Answers:  95%|█████████▍| 35/37 [05:44<00:17,  8.99s/it]"
     ]
    },
    {
     "name": "stdout",
     "output_type": "stream",
     "text": [
      "\n",
      "Processing Question 36: Who is the creators of the \"BAM reference data\"?\n",
      "\n",
      "Generated Answer:\n",
      "Prof. Birgit Skrotzki; Sina Schriever\n",
      "\n"
     ]
    },
    {
     "name": "stderr",
     "output_type": "stream",
     "text": [
      "Generating Answers:  97%|█████████▋| 36/37 [05:50<00:08,  8.04s/it]"
     ]
    },
    {
     "name": "stdout",
     "output_type": "stream",
     "text": [
      "\n",
      "Processing Question 37: What are the datasets published by \"BAM\"?\n",
      "\n",
      "Generated Answer:\n",
      "BAM Dataset: Creating FDO for MatWerk; BAM reference data: results of ASTM E139 -11 creep tests on a reference material of Nimonic 75 nickel-base alloy; Elastic Constant Demo Data; Aluminum Elastic Modulus; Datasets for the analysis of dislocations at grain boundaries and during vein formation in cyclically deformed Ni micropillars\n",
      "\n"
     ]
    },
    {
     "name": "stderr",
     "output_type": "stream",
     "text": [
      "Generating Answers: 100%|██████████| 37/37 [06:00<00:00,  9.74s/it]"
     ]
    },
    {
     "name": "stdout",
     "output_type": "stream",
     "text": [
      "\n",
      "[✓] Saved: ../data/MSE-KG/BGEM3/Predicted_Answers_Contexts_by_BGE_M3_Decom5_50.xlsx\n"
     ]
    },
    {
     "name": "stderr",
     "output_type": "stream",
     "text": [
      "\n"
     ]
    }
   ],
   "source": [
    "from openai import OpenAI\n",
    "import pandas as pd\n",
    "import time\n",
    "import os\n",
    "from tqdm import tqdm\n",
    "\n",
    "# Configuration Constants\n",
    "BASE_URL = \"https://api.deepseek.com\"\n",
    "MODEL_NAME = \"deepseek-chat\"\n",
    "MAX_TOKENS = 1000\n",
    "RETRY_COUNT = 3\n",
    "SLEEP_INTERVAL = 1  # Rate limiting between API calls\n",
    "DATA_DIR = \"../data/MSE-KG/BGEM3/\"\n",
    "\n",
    "client = OpenAI(api_key=API_KEY, base_url=BASE_URL)\n",
    "\n",
    "def generate_answer(question: str, context: str) -> str:\n",
    "    \"\"\"Generates answer using OpenAI API with retry mechanism.\"\"\"\n",
    "    if not context.strip():\n",
    "        return \"[No Answer]\"\n",
    "\n",
    "    prompt = GENERATION_PROMPT_TEMPLATE.format(question=question, contexts=context)\n",
    "    \n",
    "    for attempt in range(RETRY_COUNT):\n",
    "        try:\n",
    "            response = client.chat.completions.create(\n",
    "                model=MODEL_NAME,\n",
    "                messages=[{\"role\": \"user\", \"content\": prompt}],\n",
    "                max_tokens=MAX_TOKENS\n",
    "            )\n",
    "            answer = response.choices[0].message.content.strip()\n",
    "            print(f\"\\nGenerated Answer:\\n{answer}\\n\")  # Print the generated answer\n",
    "            return answer\n",
    "        except Exception as e:\n",
    "            print(f\"API error (Attempt {attempt+1}/{RETRY_COUNT}): {str(e)}\")\n",
    "            time.sleep(2 ** attempt)  # Exponential backoff\n",
    "    return \"[API Error: Maximum retries exceeded]\"\n",
    "\n",
    "def process_questions(df: pd.DataFrame, context_column: str) -> tuple[list, list]:\n",
    "    \"\"\"Processes dataframe rows and generates answers.\"\"\"\n",
    "    answers = []\n",
    "    failed_indices = []\n",
    "\n",
    "    for index, row in tqdm(df.iterrows(), total=len(df), desc=\"Generating Answers\"):\n",
    "        try:\n",
    "            question = str(row.get('Competency Question', ''))\n",
    "            context = str(row.get(context_column, ''))\n",
    "            \n",
    "            print(f\"\\nProcessing Question {index+1}: {question}\")\n",
    "            \n",
    "            answer = generate_answer(question, context)\n",
    "            answers.append(answer)\n",
    "\n",
    "            time.sleep(SLEEP_INTERVAL)  # Global rate limiting\n",
    "        except Exception as e:\n",
    "            print(f\"Row {index} failed: {str(e)}\")\n",
    "            answers.append(\"[Error]\")\n",
    "            failed_indices.append(index)\n",
    "\n",
    "    return answers, failed_indices\n",
    "\n",
    "def process_single_file(input_path, output_path, top_k):\n",
    "    try:\n",
    "        df = pd.read_excel(input_path)\n",
    "        \n",
    "        # Get the correct context column name\n",
    "        context_column = f\"Contexts\"\n",
    "        \n",
    "        if context_column not in df.columns:\n",
    "            raise ValueError(f\"Column {context_column} not found in the input file\")\n",
    "        \n",
    "        answers, failed = process_questions(df, context_column)\n",
    "\n",
    "        df['Answer'] = answers\n",
    "        os.makedirs(os.path.dirname(output_path), exist_ok=True)\n",
    "        df.to_excel(output_path, index=False)\n",
    "        \n",
    "        print(f\"\\n[✓] Saved: {output_path}\")\n",
    "        if failed:\n",
    "            print(f\"[-] {len(failed)} rows failed in {input_path}\")\n",
    "\n",
    "    except Exception as e:\n",
    "        print(f\"[X] Error with file {input_path}: {str(e)}\")\n",
    "\n",
    "if __name__ == \"__main__\":\n",
    "    for top_k in range(10, 101, 10):\n",
    "        input_path = f\"{DATA_DIR}Contexts_by_BGE_M3_5Decom_{top_k}_cleaned.xlsx\"\n",
    "        output_path = f\"{DATA_DIR}Predicted_Answers_Contexts_by_BGE_M3_Decom5_{top_k}.xlsx\"\n",
    "        process_single_file(input_path, output_path, top_k)"
   ]
  },
  {
   "cell_type": "markdown",
   "metadata": {},
   "source": [
    "# Evaluation"
   ]
  },
  {
   "cell_type": "code",
   "execution_count": 18,
   "metadata": {},
   "outputs": [
    {
     "data": {
      "image/png": "[encoded data removed]",
      "text/plain": [
       "<Figure size 1400x800 with 1 Axes>"
      ]
     },
     "metadata": {},
     "output_type": "display_data"
    }
   ],
   "source": [
    "import os\n",
    "import pandas as pd\n",
    "import matplotlib.pyplot as plt\n",
    "from rouge import Rouge\n",
    "from nltk.translate.bleu_score import sentence_bleu, SmoothingFunction\n",
    "from sentence_transformers import SentenceTransformer, util\n",
    "\n",
    "# Initialization\n",
    "rouge = Rouge()\n",
    "sbert_model = SentenceTransformer('all-MiniLM-L6-v2')\n",
    "smoothing = SmoothingFunction().method1\n",
    "\n",
    "# Configuration\n",
    "base_path = \"../data/MSE-KG/BGEM3/\"\n",
    "top_k_list = list(range(10, 101, 10))\n",
    "results = {}\n",
    "\n",
    "# Batch processing\n",
    "for top_k in top_k_list:\n",
    "\n",
    "    file_name = f\"Predicted_Answers_Contexts_by_BGE_M3_Decom5_{top_k}.xlsx\"\n",
    "    file_path = os.path.join(base_path, file_name)\n",
    "    \n",
    "    if not os.path.exists(file_path):\n",
    "        continue\n",
    "\n",
    "    df = pd.read_excel(file_path)\n",
    "\n",
    "    # Initialize metric columns\n",
    "    for metric in [\n",
    "        \"ROUGE-1-f\", \"ROUGE-1-p\", \"ROUGE-1-r\",\n",
    "        \"ROUGE-2-f\", \"ROUGE-2-p\", \"ROUGE-2-r\",\n",
    "        \"ROUGE-L-f\", \"ROUGE-L-p\", \"ROUGE-L-r\",\n",
    "        \"BLEU\", \"SBERT-Similarity\"\n",
    "    ]:\n",
    "        df[metric] = 0.0\n",
    "\n",
    "    for i, row in df.iterrows():\n",
    "        generated = str(row[\"Answer\"])\n",
    "        ground_truth = str(row[\"Ground Truth\"])\n",
    "\n",
    "        try:\n",
    "            rouge_scores = rouge.get_scores(generated, ground_truth)[0]\n",
    "            df.at[i, \"ROUGE-1-f\"] = rouge_scores[\"rouge-1\"][\"f\"]\n",
    "            df.at[i, \"ROUGE-1-p\"] = rouge_scores[\"rouge-1\"][\"p\"]\n",
    "            df.at[i, \"ROUGE-1-r\"] = rouge_scores[\"rouge-1\"][\"r\"]\n",
    "            df.at[i, \"ROUGE-2-f\"] = rouge_scores[\"rouge-2\"][\"f\"]\n",
    "            df.at[i, \"ROUGE-2-p\"] = rouge_scores[\"rouge-2\"][\"p\"]\n",
    "            df.at[i, \"ROUGE-2-r\"] = rouge_scores[\"rouge-2\"][\"r\"]\n",
    "            df.at[i, \"ROUGE-L-f\"] = rouge_scores[\"rouge-l\"][\"f\"]\n",
    "            df.at[i, \"ROUGE-L-p\"] = rouge_scores[\"rouge-l\"][\"p\"]\n",
    "            df.at[i, \"ROUGE-L-r\"] = rouge_scores[\"rouge-l\"][\"r\"]\n",
    "        except:\n",
    "            continue\n",
    "\n",
    "        try:\n",
    "            bleu = sentence_bleu([ground_truth.split()], generated.split(), smoothing_function=smoothing)\n",
    "            df.at[i, \"BLEU\"] = bleu\n",
    "        except:\n",
    "            df.at[i, \"BLEU\"] = 0.0\n",
    "\n",
    "        try:\n",
    "            emb_gt = sbert_model.encode(ground_truth, convert_to_tensor=True, show_progress_bar=False)\n",
    "            emb_gen = sbert_model.encode(generated, convert_to_tensor=True, show_progress_bar=False)\n",
    "            sim = util.pytorch_cos_sim(emb_gt, emb_gen).item()\n",
    "            df.at[i, \"SBERT-Similarity\"] = sim\n",
    "        except:\n",
    "            df.at[i, \"SBERT-Similarity\"] = 0.0\n",
    "\n",
    "    # Save evaluated results for each file\n",
    "    evaluated_file = os.path.join(base_path, f\"Evaluated_Predicted_Answers_Contexts_by_BGE_M3_Decom5_{top_k}.xlsx\")\n",
    "    df.to_excel(evaluated_file, index=False)\n",
    "\n",
    "    # Calculate averages for summary\n",
    "    avg_scores = df[[\n",
    "        \"ROUGE-1-f\", \"ROUGE-1-p\", \"ROUGE-1-r\",\n",
    "        \"ROUGE-2-f\", \"ROUGE-2-p\", \"ROUGE-2-r\",\n",
    "        \"ROUGE-L-f\", \"ROUGE-L-p\", \"ROUGE-L-r\",\n",
    "        \"BLEU\", \"SBERT-Similarity\"\n",
    "    ]].mean()\n",
    "    results[top_k] = avg_scores.to_dict()\n",
    "\n",
    "    # Plot for current topK\n",
    "    plt.figure(figsize=(12, 6))\n",
    "    avg_scores.plot(kind='bar', color='skyblue', edgecolor='black')\n",
    "    plt.title(f\"Top-{top_k} Evaluation Metrics\", fontsize=16)\n",
    "    plt.ylabel(\"Average Score\", fontsize=14)\n",
    "    plt.xticks(rotation=45, fontsize=12)\n",
    "    plt.yticks(fontsize=12)\n",
    "    plt.tight_layout()\n",
    "    plt.close()\n",
    "\n",
    "# Create summary table of averages\n",
    "result_df = pd.DataFrame(results).T\n",
    "result_df.index.name = \"Top-K\"\n",
    "result_df.to_excel(\"../data/MSE-KG/BGEM3/Evaluation_Comparison_Averages_BGE_M3_Decom.xlsx\")\n",
    "\n",
    "# Plot comparison across all Top-K values\n",
    "plt.figure(figsize=(14, 8))\n",
    "for metric in result_df.columns:\n",
    "    plt.plot(result_df.index, result_df[metric], marker='o', label=metric)\n",
    "\n",
    "plt.title(\"Evaluation Metric Comparison across Top-K Predictions\", fontsize=16)\n",
    "plt.xlabel(\"Top-K\", fontsize=14)\n",
    "plt.ylabel(\"Average Score\", fontsize=14)\n",
    "plt.xticks(result_df.index, fontsize=12)\n",
    "plt.yticks(fontsize=12)\n",
    "plt.legend(fontsize=10)\n",
    "plt.grid(True)\n",
    "plt.tight_layout()\n",
    "plt.savefig(\"../data/MSE-KG/BGEM3/Evaluation_Comparison_Averages_BGE_M3_Decom.png\")\n",
    "plt.show()"
   ]
  }
 ],
 "metadata": {
  "kernelspec": {
   "display_name": "embed",
   "language": "python",
   "name": "python3"
  },
  "language_info": {
   "codemirror_mode": {
    "name": "ipython",
    "version": 3
   },
   "file_extension": ".py",
   "mimetype": "text/x-python",
   "name": "python",
   "nbconvert_exporter": "python",
   "pygments_lexer": "ipython3",
   "version": "3.11.6"
  }
 },
 "nbformat": 4,
 "nbformat_minor": 2
}
